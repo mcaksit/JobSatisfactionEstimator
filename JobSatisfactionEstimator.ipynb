{
  "nbformat": 4,
  "nbformat_minor": 0,
  "metadata": {
    "colab": {
      "name": "JobSatisfactionEstimator.ipynb",
      "provenance": [],
      "collapsed_sections": [],
      "toc_visible": true,
      "include_colab_link": true
    },
    "kernelspec": {
      "name": "python3",
      "display_name": "Python 3"
    }
  },
  "cells": [
    {
      "cell_type": "markdown",
      "metadata": {
        "id": "view-in-github",
        "colab_type": "text"
      },
      "source": [
        "<a href=\"https://colab.research.google.com/github/mcaksit/JobSatisfactionEstimator/blob/main/JobSatisfactionEstimator.ipynb\" target=\"_parent\"><img src=\"https://colab.research.google.com/assets/colab-badge.svg\" alt=\"Open In Colab\"/></a>"
      ]
    },
    {
      "cell_type": "markdown",
      "metadata": {
        "id": "pUANDAptQjXB"
      },
      "source": [
        "# I) Acquiring Data"
      ]
    },
    {
      "cell_type": "code",
      "metadata": {
        "id": "034IkrumXxuT"
      },
      "source": [
        "from google.colab import drive\r\n",
        "drive.mount(\"/content/drive\", force_remount=True)"
      ],
      "execution_count": null,
      "outputs": []
    },
    {
      "cell_type": "code",
      "metadata": {
        "id": "S6hNei8mX57Y"
      },
      "source": [
        "import pandas as pd\r\n",
        "from os.path import join\r\n",
        "import scipy.io\r\n",
        "import json"
      ],
      "execution_count": null,
      "outputs": []
    },
    {
      "cell_type": "code",
      "metadata": {
        "id": "fQwco6JmYCiN"
      },
      "source": [
        "path_prefix = \"/content/drive/\" # path to drive\r\n",
        "fname_train = \"TrainData_Kaggle.xlsx\" \r\n",
        "df = pd.read_excel(join(path_prefix, fname_train))"
      ],
      "execution_count": null,
      "outputs": []
    },
    {
      "cell_type": "code",
      "metadata": {
        "id": "WurtaHAMBg9R"
      },
      "source": [
        "path_prefix = \"/content/drive/\" # path to drive\r\n",
        "fname_test = \"TestData_Kaggle.xlsx\" \r\n",
        "df_test = pd.read_excel(join(path_prefix, fname_test))"
      ],
      "execution_count": null,
      "outputs": []
    },
    {
      "cell_type": "markdown",
      "metadata": {
        "id": "tNn9RxFKsl14"
      },
      "source": [
        "# II) Preprocessing"
      ]
    },
    {
      "cell_type": "code",
      "metadata": {
        "colab": {
          "base_uri": "https://localhost:8080/",
          "height": 804
        },
        "id": "XnCHqx1gORTH",
        "outputId": "8af0179c-eb7b-4cc9-d3bc-6cb69a74e70c"
      },
      "source": [
        "df.head(10)"
      ],
      "execution_count": null,
      "outputs": [
        {
          "output_type": "execute_result",
          "data": {
            "text/html": [
              "<div>\n",
              "<style scoped>\n",
              "    .dataframe tbody tr th:only-of-type {\n",
              "        vertical-align: middle;\n",
              "    }\n",
              "\n",
              "    .dataframe tbody tr th {\n",
              "        vertical-align: top;\n",
              "    }\n",
              "\n",
              "    .dataframe thead th {\n",
              "        text-align: right;\n",
              "    }\n",
              "</style>\n",
              "<table border=\"1\" class=\"dataframe\">\n",
              "  <thead>\n",
              "    <tr style=\"text-align: right;\">\n",
              "      <th></th>\n",
              "      <th>ID</th>\n",
              "      <th>GenderSelect</th>\n",
              "      <th>Country</th>\n",
              "      <th>Age</th>\n",
              "      <th>EmploymentStatus</th>\n",
              "      <th>CodeWriter</th>\n",
              "      <th>CurrentJobTitleSelect</th>\n",
              "      <th>TitleFit</th>\n",
              "      <th>CurrentEmployerType</th>\n",
              "      <th>MLToolNextYearSelect</th>\n",
              "      <th>MLMethodNextYearSelect</th>\n",
              "      <th>LanguageRecommendationSelect</th>\n",
              "      <th>LearningPlatformUsefulnessBlogs</th>\n",
              "      <th>LearningPlatformUsefulnessKaggle</th>\n",
              "      <th>LearningPlatformUsefulnessCourses</th>\n",
              "      <th>LearningPlatformUsefulnessProjects</th>\n",
              "      <th>LearningPlatformUsefulnessSO</th>\n",
              "      <th>LearningPlatformUsefulnessTextbook</th>\n",
              "      <th>LearningPlatformUsefulnessYouTube</th>\n",
              "      <th>DataScienceIdentitySelect</th>\n",
              "      <th>FormalEducation</th>\n",
              "      <th>MajorSelect</th>\n",
              "      <th>Tenure</th>\n",
              "      <th>PastJobTitlesSelect</th>\n",
              "      <th>MLSkillsSelect</th>\n",
              "      <th>MLTechniquesSelect</th>\n",
              "      <th>EmployerIndustry</th>\n",
              "      <th>EmployerSize</th>\n",
              "      <th>WorkProductionFrequency</th>\n",
              "      <th>WorkAlgorithmsSelect</th>\n",
              "      <th>WorkToolsFrequencyPython</th>\n",
              "      <th>WorkToolsFrequencyR</th>\n",
              "      <th>WorkToolsFrequencySQL</th>\n",
              "      <th>WorkMethodsFrequencyCross-Validation</th>\n",
              "      <th>WorkMethodsFrequencyDataVisualization</th>\n",
              "      <th>WorkMethodsFrequencyDecisionTrees</th>\n",
              "      <th>WorkMethodsFrequencyLogisticRegression</th>\n",
              "      <th>WorkMethodsFrequencyNeuralNetworks</th>\n",
              "      <th>WorkMethodsFrequencyPCA</th>\n",
              "      <th>WorkMethodsFrequencyRandomForests</th>\n",
              "      <th>WorkMethodsFrequencyTimeSeriesAnalysis</th>\n",
              "      <th>WorkChallengeFrequencyPolitics</th>\n",
              "      <th>WorkChallengeFrequencyUnusedResults</th>\n",
              "      <th>WorkChallengeFrequencyDirtyData</th>\n",
              "      <th>WorkChallengeFrequencyExplaining</th>\n",
              "      <th>WorkChallengeFrequencyTalent</th>\n",
              "      <th>WorkChallengeFrequencyClarity</th>\n",
              "      <th>WorkChallengeFrequencyDataAccess</th>\n",
              "      <th>CompensationScore</th>\n",
              "      <th>WorkDataVisualizations</th>\n",
              "      <th>WorkInternalVsExternalTools</th>\n",
              "      <th>WorkMLTeamSeatSelect</th>\n",
              "      <th>RemoteWork</th>\n",
              "      <th>JobSatisfaction</th>\n",
              "    </tr>\n",
              "  </thead>\n",
              "  <tbody>\n",
              "    <tr>\n",
              "      <th>0</th>\n",
              "      <td>1</td>\n",
              "      <td>Male</td>\n",
              "      <td>Pakistan</td>\n",
              "      <td>28.0</td>\n",
              "      <td>Independent contractor, freelancer, or self-em...</td>\n",
              "      <td>Yes</td>\n",
              "      <td>Software Developer/Software Engineer</td>\n",
              "      <td>Fine</td>\n",
              "      <td>Self-employed</td>\n",
              "      <td>Python</td>\n",
              "      <td>Link Analysis</td>\n",
              "      <td>SAS</td>\n",
              "      <td>NaN</td>\n",
              "      <td>NaN</td>\n",
              "      <td>Very useful</td>\n",
              "      <td>NaN</td>\n",
              "      <td>NaN</td>\n",
              "      <td>NaN</td>\n",
              "      <td>Not Useful</td>\n",
              "      <td>Sort of (Explain more)</td>\n",
              "      <td>Bachelor's degree</td>\n",
              "      <td>Information technology, networking, or system ...</td>\n",
              "      <td>3 to 5 years</td>\n",
              "      <td>Programmer,Software Developer/Software Engineer</td>\n",
              "      <td>Survival Analysis</td>\n",
              "      <td>Hidden Markov Models HMMs,Logistic Regression,...</td>\n",
              "      <td>Technology</td>\n",
              "      <td>NaN</td>\n",
              "      <td>Always</td>\n",
              "      <td>Random Forests</td>\n",
              "      <td>Often</td>\n",
              "      <td>NaN</td>\n",
              "      <td>Often</td>\n",
              "      <td>NaN</td>\n",
              "      <td>NaN</td>\n",
              "      <td>NaN</td>\n",
              "      <td>NaN</td>\n",
              "      <td>NaN</td>\n",
              "      <td>NaN</td>\n",
              "      <td>Often</td>\n",
              "      <td>NaN</td>\n",
              "      <td>NaN</td>\n",
              "      <td>NaN</td>\n",
              "      <td>Often</td>\n",
              "      <td>NaN</td>\n",
              "      <td>NaN</td>\n",
              "      <td>NaN</td>\n",
              "      <td>NaN</td>\n",
              "      <td>8.0</td>\n",
              "      <td>51-75% of projects</td>\n",
              "      <td>Approximately half internal and half external</td>\n",
              "      <td>Standalone Team</td>\n",
              "      <td>NaN</td>\n",
              "      <td>4</td>\n",
              "    </tr>\n",
              "    <tr>\n",
              "      <th>1</th>\n",
              "      <td>2</td>\n",
              "      <td>Male</td>\n",
              "      <td>Mexico</td>\n",
              "      <td>26.0</td>\n",
              "      <td>Employed full-time</td>\n",
              "      <td>Yes</td>\n",
              "      <td>Computer Scientist</td>\n",
              "      <td>Poorly</td>\n",
              "      <td>Employed by a company that doesn't perform adv...</td>\n",
              "      <td>Python</td>\n",
              "      <td>Deep learning</td>\n",
              "      <td>Python</td>\n",
              "      <td>Somewhat useful</td>\n",
              "      <td>Very useful</td>\n",
              "      <td>NaN</td>\n",
              "      <td>NaN</td>\n",
              "      <td>NaN</td>\n",
              "      <td>Very useful</td>\n",
              "      <td>NaN</td>\n",
              "      <td>No</td>\n",
              "      <td>Master's degree</td>\n",
              "      <td>Computer Science</td>\n",
              "      <td>1 to 2 years</td>\n",
              "      <td>Computer Scientist,Programmer,Researcher</td>\n",
              "      <td>Natural Language Processing,Supervised Machine...</td>\n",
              "      <td>Bayesian Techniques,Support Vector Machines (S...</td>\n",
              "      <td>Government</td>\n",
              "      <td>1,000 to 4,999 employees</td>\n",
              "      <td>Rarely</td>\n",
              "      <td>Bayesian Techniques,SVMs</td>\n",
              "      <td>Sometimes</td>\n",
              "      <td>Often</td>\n",
              "      <td>NaN</td>\n",
              "      <td>Sometimes</td>\n",
              "      <td>Most of the time</td>\n",
              "      <td>NaN</td>\n",
              "      <td>NaN</td>\n",
              "      <td>NaN</td>\n",
              "      <td>NaN</td>\n",
              "      <td>NaN</td>\n",
              "      <td>Rarely</td>\n",
              "      <td>NaN</td>\n",
              "      <td>NaN</td>\n",
              "      <td>NaN</td>\n",
              "      <td>NaN</td>\n",
              "      <td>Often</td>\n",
              "      <td>NaN</td>\n",
              "      <td>NaN</td>\n",
              "      <td>NaN</td>\n",
              "      <td>100% of projects</td>\n",
              "      <td>More internal than external</td>\n",
              "      <td>Business Department</td>\n",
              "      <td>NaN</td>\n",
              "      <td>7</td>\n",
              "    </tr>\n",
              "    <tr>\n",
              "      <th>2</th>\n",
              "      <td>3</td>\n",
              "      <td>Female</td>\n",
              "      <td>United States</td>\n",
              "      <td>34.0</td>\n",
              "      <td>Employed full-time</td>\n",
              "      <td>Yes</td>\n",
              "      <td>Data Analyst</td>\n",
              "      <td>Fine</td>\n",
              "      <td>Employed by government</td>\n",
              "      <td>TensorFlow</td>\n",
              "      <td>Deep learning</td>\n",
              "      <td>Python</td>\n",
              "      <td>Very useful</td>\n",
              "      <td>NaN</td>\n",
              "      <td>Somewhat useful</td>\n",
              "      <td>NaN</td>\n",
              "      <td>NaN</td>\n",
              "      <td>Somewhat useful</td>\n",
              "      <td>Somewhat useful</td>\n",
              "      <td>Sort of (Explain more)</td>\n",
              "      <td>Doctoral degree</td>\n",
              "      <td>Mathematics or statistics</td>\n",
              "      <td>6 to 10 years</td>\n",
              "      <td>Engineer,Operations Research Practitioner,Pred...</td>\n",
              "      <td>Supervised Machine Learning (Tabular Data)</td>\n",
              "      <td>Ensemble Methods,Evolutionary Approaches,Neura...</td>\n",
              "      <td>Government</td>\n",
              "      <td>1,000 to 4,999 employees</td>\n",
              "      <td>Rarely</td>\n",
              "      <td>Neural Networks,Regression/Logistic Regression</td>\n",
              "      <td>Sometimes</td>\n",
              "      <td>Often</td>\n",
              "      <td>NaN</td>\n",
              "      <td>Often</td>\n",
              "      <td>Often</td>\n",
              "      <td>NaN</td>\n",
              "      <td>NaN</td>\n",
              "      <td>Often</td>\n",
              "      <td>Sometimes</td>\n",
              "      <td>NaN</td>\n",
              "      <td>Sometimes</td>\n",
              "      <td>NaN</td>\n",
              "      <td>Sometimes</td>\n",
              "      <td>NaN</td>\n",
              "      <td>NaN</td>\n",
              "      <td>Sometimes</td>\n",
              "      <td>NaN</td>\n",
              "      <td>Most of the time</td>\n",
              "      <td>2.0</td>\n",
              "      <td>10-25% of projects</td>\n",
              "      <td>More internal than external</td>\n",
              "      <td>Other</td>\n",
              "      <td>Rarely</td>\n",
              "      <td>6</td>\n",
              "    </tr>\n",
              "    <tr>\n",
              "      <th>3</th>\n",
              "      <td>4</td>\n",
              "      <td>Female</td>\n",
              "      <td>United States</td>\n",
              "      <td>33.0</td>\n",
              "      <td>Employed full-time</td>\n",
              "      <td>Yes</td>\n",
              "      <td>Scientist/Researcher</td>\n",
              "      <td>Fine</td>\n",
              "      <td>Employed by college or university</td>\n",
              "      <td>IBM Watson / Waton Analytics</td>\n",
              "      <td>Cluster Analysis</td>\n",
              "      <td>Python</td>\n",
              "      <td>NaN</td>\n",
              "      <td>NaN</td>\n",
              "      <td>Very useful</td>\n",
              "      <td>NaN</td>\n",
              "      <td>Somewhat useful</td>\n",
              "      <td>NaN</td>\n",
              "      <td>NaN</td>\n",
              "      <td>No</td>\n",
              "      <td>Doctoral degree</td>\n",
              "      <td>Engineering (non-computer focused)</td>\n",
              "      <td>More than 10 years</td>\n",
              "      <td>Engineer,Researcher</td>\n",
              "      <td>Computer Vision</td>\n",
              "      <td>Bayesian Techniques,Support Vector Machines (S...</td>\n",
              "      <td>Academic</td>\n",
              "      <td>5,000 to 9,999 employees</td>\n",
              "      <td>Sometimes</td>\n",
              "      <td>Markov Logic Networks,Regression/Logistic Regr...</td>\n",
              "      <td>Sometimes</td>\n",
              "      <td>NaN</td>\n",
              "      <td>NaN</td>\n",
              "      <td>NaN</td>\n",
              "      <td>Often</td>\n",
              "      <td>NaN</td>\n",
              "      <td>Sometimes</td>\n",
              "      <td>NaN</td>\n",
              "      <td>Often</td>\n",
              "      <td>NaN</td>\n",
              "      <td>Sometimes</td>\n",
              "      <td>NaN</td>\n",
              "      <td>NaN</td>\n",
              "      <td>NaN</td>\n",
              "      <td>NaN</td>\n",
              "      <td>NaN</td>\n",
              "      <td>Rarely</td>\n",
              "      <td>Rarely</td>\n",
              "      <td>2.0</td>\n",
              "      <td>76-99% of projects</td>\n",
              "      <td>Do not know</td>\n",
              "      <td>Other</td>\n",
              "      <td>Rarely</td>\n",
              "      <td>9</td>\n",
              "    </tr>\n",
              "    <tr>\n",
              "      <th>4</th>\n",
              "      <td>5</td>\n",
              "      <td>Female</td>\n",
              "      <td>United States</td>\n",
              "      <td>35.0</td>\n",
              "      <td>Employed full-time</td>\n",
              "      <td>Yes</td>\n",
              "      <td>Software Developer/Software Engineer</td>\n",
              "      <td>Fine</td>\n",
              "      <td>Employed by a company that performs advanced a...</td>\n",
              "      <td>Google Cloud Compute</td>\n",
              "      <td>Neural Nets</td>\n",
              "      <td>Python</td>\n",
              "      <td>NaN</td>\n",
              "      <td>Very useful</td>\n",
              "      <td>Somewhat useful</td>\n",
              "      <td>NaN</td>\n",
              "      <td>NaN</td>\n",
              "      <td>Very useful</td>\n",
              "      <td>NaN</td>\n",
              "      <td>No</td>\n",
              "      <td>Doctoral degree</td>\n",
              "      <td>Mathematics or statistics</td>\n",
              "      <td>More than 10 years</td>\n",
              "      <td>Researcher,Software Developer/Software Engineer</td>\n",
              "      <td>Computer Vision</td>\n",
              "      <td>Bayesian Techniques,Evolutionary Approaches,Lo...</td>\n",
              "      <td>Internet-based</td>\n",
              "      <td>10,000 or more employees</td>\n",
              "      <td>Sometimes</td>\n",
              "      <td>Bayesian Techniques,CNNs,Regression/Logistic R...</td>\n",
              "      <td>Most of the time</td>\n",
              "      <td>NaN</td>\n",
              "      <td>NaN</td>\n",
              "      <td>Most of the time</td>\n",
              "      <td>Most of the time</td>\n",
              "      <td>NaN</td>\n",
              "      <td>Sometimes</td>\n",
              "      <td>Most of the time</td>\n",
              "      <td>Sometimes</td>\n",
              "      <td>NaN</td>\n",
              "      <td>NaN</td>\n",
              "      <td>NaN</td>\n",
              "      <td>NaN</td>\n",
              "      <td>NaN</td>\n",
              "      <td>NaN</td>\n",
              "      <td>NaN</td>\n",
              "      <td>NaN</td>\n",
              "      <td>Sometimes</td>\n",
              "      <td>8.0</td>\n",
              "      <td>100% of projects</td>\n",
              "      <td>Entirely internal</td>\n",
              "      <td>Other</td>\n",
              "      <td>Rarely</td>\n",
              "      <td>8</td>\n",
              "    </tr>\n",
              "    <tr>\n",
              "      <th>5</th>\n",
              "      <td>6</td>\n",
              "      <td>Male</td>\n",
              "      <td>France</td>\n",
              "      <td>26.0</td>\n",
              "      <td>Employed full-time</td>\n",
              "      <td>Yes</td>\n",
              "      <td>Data Scientist</td>\n",
              "      <td>Fine</td>\n",
              "      <td>Employed by professional services/consulting firm</td>\n",
              "      <td>TensorFlow</td>\n",
              "      <td>Neural Nets</td>\n",
              "      <td>Python</td>\n",
              "      <td>Very useful</td>\n",
              "      <td>Very useful</td>\n",
              "      <td>NaN</td>\n",
              "      <td>NaN</td>\n",
              "      <td>Very useful</td>\n",
              "      <td>NaN</td>\n",
              "      <td>NaN</td>\n",
              "      <td>NaN</td>\n",
              "      <td>Master's degree</td>\n",
              "      <td>Engineering (non-computer focused)</td>\n",
              "      <td>1 to 2 years</td>\n",
              "      <td>Data Scientist,Engineer,Statistician</td>\n",
              "      <td>Supervised Machine Learning (Tabular Data),Sur...</td>\n",
              "      <td>Decision Trees - Gradient Boosted Machines,Dec...</td>\n",
              "      <td>Mix of fields</td>\n",
              "      <td>Fewer than 10 employees</td>\n",
              "      <td>Most of the time</td>\n",
              "      <td>Ensemble Methods,Gradient Boosted Machines,Ran...</td>\n",
              "      <td>Most of the time</td>\n",
              "      <td>Often</td>\n",
              "      <td>Most of the time</td>\n",
              "      <td>Most of the time</td>\n",
              "      <td>Most of the time</td>\n",
              "      <td>Sometimes</td>\n",
              "      <td>Most of the time</td>\n",
              "      <td>NaN</td>\n",
              "      <td>Often</td>\n",
              "      <td>Most of the time</td>\n",
              "      <td>Often</td>\n",
              "      <td>NaN</td>\n",
              "      <td>NaN</td>\n",
              "      <td>Most of the time</td>\n",
              "      <td>NaN</td>\n",
              "      <td>NaN</td>\n",
              "      <td>Often</td>\n",
              "      <td>NaN</td>\n",
              "      <td>1.0</td>\n",
              "      <td>51-75% of projects</td>\n",
              "      <td>Entirely internal</td>\n",
              "      <td>Standalone Team</td>\n",
              "      <td>Most of the time</td>\n",
              "      <td>9</td>\n",
              "    </tr>\n",
              "    <tr>\n",
              "      <th>6</th>\n",
              "      <td>7</td>\n",
              "      <td>Female</td>\n",
              "      <td>United States</td>\n",
              "      <td>37.0</td>\n",
              "      <td>Employed full-time</td>\n",
              "      <td>Yes</td>\n",
              "      <td>Software Developer/Software Engineer</td>\n",
              "      <td>Fine</td>\n",
              "      <td>Employed by professional services/consulting firm</td>\n",
              "      <td>Google Cloud Compute</td>\n",
              "      <td>Deep learning</td>\n",
              "      <td>R</td>\n",
              "      <td>NaN</td>\n",
              "      <td>NaN</td>\n",
              "      <td>NaN</td>\n",
              "      <td>NaN</td>\n",
              "      <td>NaN</td>\n",
              "      <td>NaN</td>\n",
              "      <td>NaN</td>\n",
              "      <td>Sort of (Explain more)</td>\n",
              "      <td>Master's degree</td>\n",
              "      <td>Computer Science</td>\n",
              "      <td>6 to 10 years</td>\n",
              "      <td>Software Developer/Software Engineer</td>\n",
              "      <td>Supervised Machine Learning (Tabular Data)</td>\n",
              "      <td>Bayesian Techniques</td>\n",
              "      <td>Technology</td>\n",
              "      <td>1,000 to 4,999 employees</td>\n",
              "      <td>Most of the time</td>\n",
              "      <td>Bayesian Techniques</td>\n",
              "      <td>Sometimes</td>\n",
              "      <td>NaN</td>\n",
              "      <td>Most of the time</td>\n",
              "      <td>NaN</td>\n",
              "      <td>NaN</td>\n",
              "      <td>NaN</td>\n",
              "      <td>NaN</td>\n",
              "      <td>NaN</td>\n",
              "      <td>NaN</td>\n",
              "      <td>NaN</td>\n",
              "      <td>NaN</td>\n",
              "      <td>Sometimes</td>\n",
              "      <td>NaN</td>\n",
              "      <td>NaN</td>\n",
              "      <td>NaN</td>\n",
              "      <td>Rarely</td>\n",
              "      <td>NaN</td>\n",
              "      <td>NaN</td>\n",
              "      <td>3.0</td>\n",
              "      <td>Less than 10% of projects</td>\n",
              "      <td>Approximately half internal and half external</td>\n",
              "      <td>IT Department</td>\n",
              "      <td>Never</td>\n",
              "      <td>4</td>\n",
              "    </tr>\n",
              "    <tr>\n",
              "      <th>7</th>\n",
              "      <td>8</td>\n",
              "      <td>Male</td>\n",
              "      <td>United States</td>\n",
              "      <td>33.0</td>\n",
              "      <td>Independent contractor, freelancer, or self-em...</td>\n",
              "      <td>Yes</td>\n",
              "      <td>Programmer</td>\n",
              "      <td>Fine</td>\n",
              "      <td>Employed by college or university</td>\n",
              "      <td>Jupyter notebooks</td>\n",
              "      <td>Text Mining</td>\n",
              "      <td>Python</td>\n",
              "      <td>NaN</td>\n",
              "      <td>NaN</td>\n",
              "      <td>Very useful</td>\n",
              "      <td>Very useful</td>\n",
              "      <td>Very useful</td>\n",
              "      <td>NaN</td>\n",
              "      <td>NaN</td>\n",
              "      <td>No</td>\n",
              "      <td>Master's degree</td>\n",
              "      <td>Physics</td>\n",
              "      <td>More than 10 years</td>\n",
              "      <td>Data Analyst,Programmer,Researcher,Software De...</td>\n",
              "      <td>Natural Language Processing,Supervised Machine...</td>\n",
              "      <td>Decision Trees - Gradient Boosted Machines,Dec...</td>\n",
              "      <td>Government</td>\n",
              "      <td>NaN</td>\n",
              "      <td>Rarely</td>\n",
              "      <td>Decision Trees,Random Forests,Regression/Logis...</td>\n",
              "      <td>Most of the time</td>\n",
              "      <td>Most of the time</td>\n",
              "      <td>Most of the time</td>\n",
              "      <td>NaN</td>\n",
              "      <td>Most of the time</td>\n",
              "      <td>Sometimes</td>\n",
              "      <td>Sometimes</td>\n",
              "      <td>NaN</td>\n",
              "      <td>NaN</td>\n",
              "      <td>Sometimes</td>\n",
              "      <td>NaN</td>\n",
              "      <td>Most of the time</td>\n",
              "      <td>Most of the time</td>\n",
              "      <td>Most of the time</td>\n",
              "      <td>Most of the time</td>\n",
              "      <td>Most of the time</td>\n",
              "      <td>Most of the time</td>\n",
              "      <td>NaN</td>\n",
              "      <td>1.0</td>\n",
              "      <td>Less than 10% of projects</td>\n",
              "      <td>Entirely external</td>\n",
              "      <td>Other</td>\n",
              "      <td>NaN</td>\n",
              "      <td>1</td>\n",
              "    </tr>\n",
              "    <tr>\n",
              "      <th>8</th>\n",
              "      <td>9</td>\n",
              "      <td>Male</td>\n",
              "      <td>France</td>\n",
              "      <td>34.0</td>\n",
              "      <td>Employed full-time</td>\n",
              "      <td>Yes</td>\n",
              "      <td>Data Scientist</td>\n",
              "      <td>Perfectly</td>\n",
              "      <td>Employed by company that makes advanced analyt...</td>\n",
              "      <td>TensorFlow</td>\n",
              "      <td>Deep learning</td>\n",
              "      <td>Python</td>\n",
              "      <td>Somewhat useful</td>\n",
              "      <td>Very useful</td>\n",
              "      <td>Somewhat useful</td>\n",
              "      <td>Very useful</td>\n",
              "      <td>Very useful</td>\n",
              "      <td>Somewhat useful</td>\n",
              "      <td>Somewhat useful</td>\n",
              "      <td>NaN</td>\n",
              "      <td>Doctoral degree</td>\n",
              "      <td>Physics</td>\n",
              "      <td>6 to 10 years</td>\n",
              "      <td>Data Scientist,Researcher,Software Developer/S...</td>\n",
              "      <td>Natural Language Processing,Outlier detection ...</td>\n",
              "      <td>Decision Trees - Gradient Boosted Machines,Dec...</td>\n",
              "      <td>Technology</td>\n",
              "      <td>10 to 19 employees</td>\n",
              "      <td>Never</td>\n",
              "      <td>Decision Trees,Ensemble Methods,Neural Network...</td>\n",
              "      <td>Most of the time</td>\n",
              "      <td>NaN</td>\n",
              "      <td>NaN</td>\n",
              "      <td>Sometimes</td>\n",
              "      <td>Often</td>\n",
              "      <td>Sometimes</td>\n",
              "      <td>NaN</td>\n",
              "      <td>Often</td>\n",
              "      <td>NaN</td>\n",
              "      <td>NaN</td>\n",
              "      <td>Often</td>\n",
              "      <td>Often</td>\n",
              "      <td>Often</td>\n",
              "      <td>Sometimes</td>\n",
              "      <td>Sometimes</td>\n",
              "      <td>Often</td>\n",
              "      <td>Most of the time</td>\n",
              "      <td>NaN</td>\n",
              "      <td>2.0</td>\n",
              "      <td>100% of projects</td>\n",
              "      <td>More internal than external</td>\n",
              "      <td>Standalone Team</td>\n",
              "      <td>Never</td>\n",
              "      <td>6</td>\n",
              "    </tr>\n",
              "    <tr>\n",
              "      <th>9</th>\n",
              "      <td>10</td>\n",
              "      <td>Female</td>\n",
              "      <td>Other</td>\n",
              "      <td>24.0</td>\n",
              "      <td>Employed full-time</td>\n",
              "      <td>Yes</td>\n",
              "      <td>Scientist/Researcher</td>\n",
              "      <td>Perfectly</td>\n",
              "      <td>Employed by college or university</td>\n",
              "      <td>NaN</td>\n",
              "      <td>Deep learning</td>\n",
              "      <td>Python</td>\n",
              "      <td>Very useful</td>\n",
              "      <td>Somewhat useful</td>\n",
              "      <td>NaN</td>\n",
              "      <td>Somewhat useful</td>\n",
              "      <td>Very useful</td>\n",
              "      <td>Very useful</td>\n",
              "      <td>Somewhat useful</td>\n",
              "      <td>Sort of (Explain more)</td>\n",
              "      <td>Master's degree</td>\n",
              "      <td>Mathematics or statistics</td>\n",
              "      <td>3 to 5 years</td>\n",
              "      <td>Data Analyst,Data Scientist,Researcher</td>\n",
              "      <td>NaN</td>\n",
              "      <td>Bayesian Techniques,Decision Trees - Gradient ...</td>\n",
              "      <td>Academic</td>\n",
              "      <td>500 to 999 employees</td>\n",
              "      <td>Never</td>\n",
              "      <td>Bayesian Techniques,CNNs,Neural Networks,RNNs</td>\n",
              "      <td>Most of the time</td>\n",
              "      <td>Sometimes</td>\n",
              "      <td>NaN</td>\n",
              "      <td>NaN</td>\n",
              "      <td>NaN</td>\n",
              "      <td>NaN</td>\n",
              "      <td>NaN</td>\n",
              "      <td>Most of the time</td>\n",
              "      <td>NaN</td>\n",
              "      <td>NaN</td>\n",
              "      <td>NaN</td>\n",
              "      <td>NaN</td>\n",
              "      <td>NaN</td>\n",
              "      <td>NaN</td>\n",
              "      <td>NaN</td>\n",
              "      <td>Often</td>\n",
              "      <td>Often</td>\n",
              "      <td>NaN</td>\n",
              "      <td>9.0</td>\n",
              "      <td>100% of projects</td>\n",
              "      <td>More internal than external</td>\n",
              "      <td>Standalone Team</td>\n",
              "      <td>Sometimes</td>\n",
              "      <td>9</td>\n",
              "    </tr>\n",
              "  </tbody>\n",
              "</table>\n",
              "</div>"
            ],
            "text/plain": [
              "   ID GenderSelect  ...        RemoteWork  JobSatisfaction\n",
              "0   1         Male  ...               NaN                4\n",
              "1   2         Male  ...               NaN                7\n",
              "2   3       Female  ...            Rarely                6\n",
              "3   4       Female  ...            Rarely                9\n",
              "4   5       Female  ...            Rarely                8\n",
              "5   6         Male  ...  Most of the time                9\n",
              "6   7       Female  ...             Never                4\n",
              "7   8         Male  ...               NaN                1\n",
              "8   9         Male  ...             Never                6\n",
              "9  10       Female  ...         Sometimes                9\n",
              "\n",
              "[10 rows x 54 columns]"
            ]
          },
          "metadata": {
            "tags": []
          },
          "execution_count": 528
        }
      ]
    },
    {
      "cell_type": "markdown",
      "metadata": {
        "id": "wCXvMMAjwPQo"
      },
      "source": [
        "## 1.Imputation of Missing Data"
      ]
    },
    {
      "cell_type": "markdown",
      "metadata": {
        "id": "YnuERut8RGuZ"
      },
      "source": [
        "### Looking for Missing Data "
      ]
    },
    {
      "cell_type": "code",
      "metadata": {
        "id": "s5sEqAVLsf2C",
        "colab": {
          "base_uri": "https://localhost:8080/"
        },
        "outputId": "2eb20a89-a98b-4605-ba90-37a968dc3a56"
      },
      "source": [
        "print(\"Number of rows in df\", len(df))\r\n",
        "print(\"Number of rows without nan values in df\",len(df.dropna()))"
      ],
      "execution_count": null,
      "outputs": [
        {
          "output_type": "stream",
          "text": [
            "Number of rows in df 5529\n",
            "Number of rows without nan values in df 0\n"
          ],
          "name": "stdout"
        }
      ]
    },
    {
      "cell_type": "code",
      "metadata": {
        "id": "GmjsKCh0uEy6",
        "colab": {
          "base_uri": "https://localhost:8080/"
        },
        "outputId": "b061af3d-319a-4c27-f8b8-6f4a67c291e3"
      },
      "source": [
        "df.isnull().sum()"
      ],
      "execution_count": null,
      "outputs": [
        {
          "output_type": "execute_result",
          "data": {
            "text/plain": [
              "ID                                           0\n",
              "GenderSelect                                10\n",
              "Country                                     16\n",
              "Age                                         68\n",
              "EmploymentStatus                             0\n",
              "CodeWriter                                   0\n",
              "CurrentJobTitleSelect                        2\n",
              "TitleFit                                   102\n",
              "CurrentEmployerType                         71\n",
              "MLToolNextYearSelect                       231\n",
              "MLMethodNextYearSelect                     277\n",
              "LanguageRecommendationSelect               195\n",
              "LearningPlatformUsefulnessBlogs           2998\n",
              "LearningPlatformUsefulnessKaggle          2361\n",
              "LearningPlatformUsefulnessCourses         2588\n",
              "LearningPlatformUsefulnessProjects        3030\n",
              "LearningPlatformUsefulnessSO              2533\n",
              "LearningPlatformUsefulnessTextbook        3327\n",
              "LearningPlatformUsefulnessYouTube         3116\n",
              "DataScienceIdentitySelect                 1545\n",
              "FormalEducation                              7\n",
              "MajorSelect                                519\n",
              "Tenure                                      14\n",
              "PastJobTitlesSelect                        205\n",
              "MLSkillsSelect                             273\n",
              "MLTechniquesSelect                         311\n",
              "EmployerIndustry                            12\n",
              "EmployerSize                               581\n",
              "WorkProductionFrequency                    626\n",
              "WorkAlgorithmsSelect                       426\n",
              "WorkToolsFrequencyPython                  1282\n",
              "WorkToolsFrequencyR                       2172\n",
              "WorkToolsFrequencySQL                     2529\n",
              "WorkMethodsFrequencyCross-Validation      2727\n",
              "WorkMethodsFrequencyDataVisualization     1909\n",
              "WorkMethodsFrequencyDecisionTrees         2875\n",
              "WorkMethodsFrequencyLogisticRegression    2403\n",
              "WorkMethodsFrequencyNeuralNetworks        3562\n",
              "WorkMethodsFrequencyPCA                   3483\n",
              "WorkMethodsFrequencyRandomForests         3027\n",
              "WorkMethodsFrequencyTimeSeriesAnalysis    3235\n",
              "WorkChallengeFrequencyPolitics            3437\n",
              "WorkChallengeFrequencyUnusedResults       4169\n",
              "WorkChallengeFrequencyDirtyData           2760\n",
              "WorkChallengeFrequencyExplaining          4279\n",
              "WorkChallengeFrequencyTalent              3163\n",
              "WorkChallengeFrequencyClarity             3805\n",
              "WorkChallengeFrequencyDataAccess          3809\n",
              "CompensationScore                         1156\n",
              "WorkDataVisualizations                      29\n",
              "WorkInternalVsExternalTools                116\n",
              "WorkMLTeamSeatSelect                       162\n",
              "RemoteWork                                 582\n",
              "JobSatisfaction                              0\n",
              "dtype: int64"
            ]
          },
          "metadata": {
            "tags": []
          },
          "execution_count": 530
        }
      ]
    },
    {
      "cell_type": "code",
      "metadata": {
        "id": "jZVb1K_yDmPU",
        "colab": {
          "base_uri": "https://localhost:8080/"
        },
        "outputId": "59054577-73c9-4013-d325-98d4853dc94c"
      },
      "source": [
        "print(\"Number of rows in df\", len(df_test))\r\n",
        "print(\"Number of rows without nan values in df\",len(df_test.dropna()))"
      ],
      "execution_count": null,
      "outputs": [
        {
          "output_type": "stream",
          "text": [
            "Number of rows in df 1000\n",
            "Number of rows without nan values in df 0\n"
          ],
          "name": "stdout"
        }
      ]
    },
    {
      "cell_type": "code",
      "metadata": {
        "id": "Ltx73rXMG2a8",
        "colab": {
          "base_uri": "https://localhost:8080/"
        },
        "outputId": "2ac86b2b-bb8c-43ba-8f98-eaadc0ed8337"
      },
      "source": [
        "df_test.isnull().sum()"
      ],
      "execution_count": null,
      "outputs": [
        {
          "output_type": "execute_result",
          "data": {
            "text/plain": [
              "ID                                          0\n",
              "GenderSelect                                2\n",
              "Country                                     2\n",
              "Age                                        14\n",
              "EmploymentStatus                            0\n",
              "CodeWriter                                  0\n",
              "CurrentJobTitleSelect                       0\n",
              "TitleFit                                   20\n",
              "CurrentEmployerType                        14\n",
              "MLToolNextYearSelect                       44\n",
              "MLMethodNextYearSelect                     47\n",
              "LanguageRecommendationSelect               38\n",
              "LearningPlatformUsefulnessBlogs           547\n",
              "LearningPlatformUsefulnessKaggle          396\n",
              "LearningPlatformUsefulnessCourses         491\n",
              "LearningPlatformUsefulnessProjects        552\n",
              "LearningPlatformUsefulnessSO              449\n",
              "LearningPlatformUsefulnessTextbook        595\n",
              "LearningPlatformUsefulnessYouTube         534\n",
              "DataScienceIdentitySelect                 265\n",
              "FormalEducation                             1\n",
              "MajorSelect                                74\n",
              "Tenure                                      1\n",
              "PastJobTitlesSelect                        32\n",
              "MLSkillsSelect                             42\n",
              "MLTechniquesSelect                         49\n",
              "EmployerIndustry                            2\n",
              "EmployerSize                              102\n",
              "WorkProductionFrequency                   107\n",
              "WorkAlgorithmsSelect                       71\n",
              "WorkToolsFrequencyPython                  221\n",
              "WorkToolsFrequencyR                       421\n",
              "WorkToolsFrequencySQL                     436\n",
              "WorkMethodsFrequencyCross-Validation      475\n",
              "WorkMethodsFrequencyDataVisualization     317\n",
              "WorkMethodsFrequencyDecisionTrees         503\n",
              "WorkMethodsFrequencyLogisticRegression    442\n",
              "WorkMethodsFrequencyNeuralNetworks        639\n",
              "WorkMethodsFrequencyPCA                   630\n",
              "WorkMethodsFrequencyRandomForests         524\n",
              "WorkMethodsFrequencyTimeSeriesAnalysis    600\n",
              "WorkChallengeFrequencyPolitics            616\n",
              "WorkChallengeFrequencyUnusedResults       739\n",
              "WorkChallengeFrequencyDirtyData           488\n",
              "WorkChallengeFrequencyExplaining          766\n",
              "WorkChallengeFrequencyTalent              585\n",
              "WorkChallengeFrequencyClarity             688\n",
              "WorkChallengeFrequencyDataAccess          692\n",
              "CompensationScore                         255\n",
              "WorkDataVisualizations                      8\n",
              "WorkInternalVsExternalTools                11\n",
              "WorkMLTeamSeatSelect                       29\n",
              "RemoteWork                                 99\n",
              "dtype: int64"
            ]
          },
          "metadata": {
            "tags": []
          },
          "execution_count": 532
        }
      ]
    },
    {
      "cell_type": "markdown",
      "metadata": {
        "id": "aMM7PQ5CtQNr"
      },
      "source": [
        "### 1.A) Values Imputed With Dummy Variables"
      ]
    },
    {
      "cell_type": "markdown",
      "metadata": {
        "id": "aDeHoihAck_Q"
      },
      "source": [
        "#### 1- Work Challenge Frequency Data Access"
      ]
    },
    {
      "cell_type": "code",
      "metadata": {
        "colab": {
          "base_uri": "https://localhost:8080/"
        },
        "id": "UvzHluB3rhU_",
        "outputId": "af3412bd-c7e0-414d-b91a-e96e71cc2d82"
      },
      "source": [
        "df[\"WorkChallengeFrequencyDataAccess\"].unique()"
      ],
      "execution_count": null,
      "outputs": [
        {
          "output_type": "execute_result",
          "data": {
            "text/plain": [
              "array([nan, 'Most of the time', 'Rarely', 'Sometimes', 'Often'],\n",
              "      dtype=object)"
            ]
          },
          "metadata": {
            "tags": []
          },
          "execution_count": 533
        }
      ]
    },
    {
      "cell_type": "code",
      "metadata": {
        "id": "4qKQ_9egcnOv"
      },
      "source": [
        "df['WorkChallengeFrequencyDataAccess'] = df['WorkChallengeFrequencyDataAccess'].fillna('Never')\r\n",
        "df_test['WorkChallengeFrequencyDataAccess'] = df_test['WorkChallengeFrequencyDataAccess'].fillna('Never')"
      ],
      "execution_count": null,
      "outputs": []
    },
    {
      "cell_type": "markdown",
      "metadata": {
        "id": "yKI3CqCkcf8M"
      },
      "source": [
        "#### 2- Work Challenge Frequency Clarity"
      ]
    },
    {
      "cell_type": "code",
      "metadata": {
        "id": "sjq6Sjynch7F"
      },
      "source": [
        "df['WorkChallengeFrequencyClarity'] = df['WorkChallengeFrequencyClarity'].fillna('Never')\r\n",
        "df_test['WorkChallengeFrequencyClarity'] = df_test['WorkChallengeFrequencyClarity'].fillna('Never')"
      ],
      "execution_count": null,
      "outputs": []
    },
    {
      "cell_type": "markdown",
      "metadata": {
        "id": "aJNPF4gMcYuc"
      },
      "source": [
        "#### 3- Work Challenge Frequency Talent"
      ]
    },
    {
      "cell_type": "code",
      "metadata": {
        "id": "X20ygdBEcZfc"
      },
      "source": [
        "df['WorkChallengeFrequencyTalent'] = df['WorkChallengeFrequencyTalent'].fillna('Never')\r\n",
        "df_test['WorkChallengeFrequencyTalent'] = df_test['WorkChallengeFrequencyTalent'].fillna('Never')"
      ],
      "execution_count": null,
      "outputs": []
    },
    {
      "cell_type": "markdown",
      "metadata": {
        "id": "oBXlhWc5cRbS"
      },
      "source": [
        "#### 4- Work Challenge Frequency Explaining"
      ]
    },
    {
      "cell_type": "code",
      "metadata": {
        "id": "lwCWj73FcRBr"
      },
      "source": [
        "df['WorkChallengeFrequencyExplaining'] = df['WorkChallengeFrequencyExplaining'].fillna('Never')\r\n",
        "df_test['WorkChallengeFrequencyExplaining'] = df_test['WorkChallengeFrequencyExplaining'].fillna('Never')"
      ],
      "execution_count": null,
      "outputs": []
    },
    {
      "cell_type": "markdown",
      "metadata": {
        "id": "lQA5ubiRcLUS"
      },
      "source": [
        "#### 5- Work Challenge Frequency Dirty Data"
      ]
    },
    {
      "cell_type": "code",
      "metadata": {
        "id": "GOi1yldTcOks"
      },
      "source": [
        "df['WorkChallengeFrequencyDirtyData'] = df['WorkChallengeFrequencyDirtyData'].fillna('Never')\r\n",
        "df_test['WorkChallengeFrequencyDirtyData'] = df_test['WorkChallengeFrequencyDirtyData'].fillna('Never')"
      ],
      "execution_count": null,
      "outputs": []
    },
    {
      "cell_type": "markdown",
      "metadata": {
        "id": "aFZFmUojcFdn"
      },
      "source": [
        "#### 6- Work Challenge Frequency Unused Results"
      ]
    },
    {
      "cell_type": "code",
      "metadata": {
        "id": "qXj00XmAcHaX"
      },
      "source": [
        "df['WorkChallengeFrequencyUnusedResults'] = df['WorkChallengeFrequencyUnusedResults'].fillna('Never')\r\n",
        "df_test['WorkChallengeFrequencyUnusedResults'] = df_test['WorkChallengeFrequencyUnusedResults'].fillna('Never')"
      ],
      "execution_count": null,
      "outputs": []
    },
    {
      "cell_type": "markdown",
      "metadata": {
        "id": "Aio7qiQkb5vo"
      },
      "source": [
        "#### 7- Work Challenge Frequency Politics"
      ]
    },
    {
      "cell_type": "code",
      "metadata": {
        "id": "wIhxRqPScCJN"
      },
      "source": [
        "df['WorkChallengeFrequencyPolitics'] = df['WorkChallengeFrequencyPolitics'].fillna('Never')\r\n",
        "df_test['WorkChallengeFrequencyPolitics'] = df_test['WorkChallengeFrequencyPolitics'].fillna('Never')"
      ],
      "execution_count": null,
      "outputs": []
    },
    {
      "cell_type": "markdown",
      "metadata": {
        "id": "5Y3zosCIbsOh"
      },
      "source": [
        "#### 8- Work Methods Frequency Time Series Analysis"
      ]
    },
    {
      "cell_type": "code",
      "metadata": {
        "colab": {
          "base_uri": "https://localhost:8080/"
        },
        "id": "lhtBC-Owbxtk",
        "outputId": "ac951669-c1f6-4c06-e2a1-83bd339f576e"
      },
      "source": [
        "df[\"WorkMethodsFrequencyTimeSeriesAnalysis\"].unique()"
      ],
      "execution_count": null,
      "outputs": [
        {
          "output_type": "execute_result",
          "data": {
            "text/plain": [
              "array([nan, 'Rarely', 'Sometimes', 'Often', 'Most of the time'],\n",
              "      dtype=object)"
            ]
          },
          "metadata": {
            "tags": []
          },
          "execution_count": 541
        }
      ]
    },
    {
      "cell_type": "code",
      "metadata": {
        "id": "ZQ9U4I09b0lG"
      },
      "source": [
        "df['WorkMethodsFrequencyTimeSeriesAnalysis'] = df['WorkMethodsFrequencyTimeSeriesAnalysis'].fillna('Never')\r\n",
        "df_test['WorkMethodsFrequencyTimeSeriesAnalysis'] = df_test['WorkMethodsFrequencyTimeSeriesAnalysis'].fillna('Never')"
      ],
      "execution_count": null,
      "outputs": []
    },
    {
      "cell_type": "markdown",
      "metadata": {
        "id": "oZkbBJDjbbsr"
      },
      "source": [
        "#### 9- Work Methods Frequency Random Forests\r\n",
        "\r\n",
        "\r\n"
      ]
    },
    {
      "cell_type": "code",
      "metadata": {
        "id": "S4lh5d7bbhqP"
      },
      "source": [
        "df['WorkMethodsFrequencyRandomForests'] = df['WorkMethodsFrequencyRandomForests'].fillna('Never')\r\n",
        "df_test['WorkMethodsFrequencyRandomForests'] = df_test['WorkMethodsFrequencyRandomForests'].fillna('Never')"
      ],
      "execution_count": null,
      "outputs": []
    },
    {
      "cell_type": "markdown",
      "metadata": {
        "id": "A6zKQSoFbSkS"
      },
      "source": [
        "#### 10- Work Methods Frequency PCA"
      ]
    },
    {
      "cell_type": "code",
      "metadata": {
        "id": "uNxyeOzQbW_F"
      },
      "source": [
        "df['WorkMethodsFrequencyPCA'] = df['WorkMethodsFrequencyPCA'].fillna('Never')\r\n",
        "df_test['WorkMethodsFrequencyPCA'] = df_test['WorkMethodsFrequencyPCA'].fillna('Never')"
      ],
      "execution_count": null,
      "outputs": []
    },
    {
      "cell_type": "markdown",
      "metadata": {
        "id": "PZ-kUp65bK1D"
      },
      "source": [
        "#### 11- Work Methods Frequency Neural Networks"
      ]
    },
    {
      "cell_type": "code",
      "metadata": {
        "id": "w8j2eK3AbQBR"
      },
      "source": [
        "df['WorkMethodsFrequencyNeuralNetworks'] = df['WorkMethodsFrequencyNeuralNetworks'].fillna('Never')\r\n",
        "df_test['WorkMethodsFrequencyNeuralNetworks'] = df_test['WorkMethodsFrequencyNeuralNetworks'].fillna('Never')"
      ],
      "execution_count": null,
      "outputs": []
    },
    {
      "cell_type": "markdown",
      "metadata": {
        "id": "V8D-LqzsbBMP"
      },
      "source": [
        "#### 12- Work Methods Frequency Logistic Regression"
      ]
    },
    {
      "cell_type": "code",
      "metadata": {
        "id": "iJFDB9fYbILk"
      },
      "source": [
        "df['WorkMethodsFrequencyLogisticRegression'] = df['WorkMethodsFrequencyLogisticRegression'].fillna('Never')\r\n",
        "df_test['WorkMethodsFrequencyLogisticRegression'] = df_test['WorkMethodsFrequencyLogisticRegression'].fillna('Never')"
      ],
      "execution_count": null,
      "outputs": []
    },
    {
      "cell_type": "markdown",
      "metadata": {
        "id": "_kZtoW3iaiLE"
      },
      "source": [
        "#### 13- Work Methods Frequency Decision Trees"
      ]
    },
    {
      "cell_type": "code",
      "metadata": {
        "id": "FkjSs8bdamno"
      },
      "source": [
        "df['WorkMethodsFrequencyDecisionTrees'] = df['WorkMethodsFrequencyDecisionTrees'].fillna('Never')\r\n",
        "df_test['WorkMethodsFrequencyDecisionTrees'] = df_test['WorkMethodsFrequencyDecisionTrees'].fillna('Never')"
      ],
      "execution_count": null,
      "outputs": []
    },
    {
      "cell_type": "markdown",
      "metadata": {
        "id": "tkcTqKICaaCY"
      },
      "source": [
        "#### 14- Work Methods Frequency Data Visualization"
      ]
    },
    {
      "cell_type": "code",
      "metadata": {
        "id": "YsQr1K0pafEb"
      },
      "source": [
        "df['WorkMethodsFrequencyCross-Validation'] = df['WorkMethodsFrequencyCross-Validation'].fillna('Never')\r\n",
        "df_test['WorkMethodsFrequencyCross-Validation'] = df_test['WorkMethodsFrequencyCross-Validation'].fillna('Never')"
      ],
      "execution_count": null,
      "outputs": []
    },
    {
      "cell_type": "markdown",
      "metadata": {
        "id": "JF0YxUUoaRK8"
      },
      "source": [
        "#### 15- Work Methods Frequency Cross-Validation"
      ]
    },
    {
      "cell_type": "code",
      "metadata": {
        "id": "bd5HYlRRaViS"
      },
      "source": [
        "df['WorkMethodsFrequencyCross-Validation'] = df['WorkMethodsFrequencyCross-Validation'].fillna('Never')\r\n",
        "df_test['WorkMethodsFrequencyCross-Validation'] = df_test['WorkMethodsFrequencyCross-Validation'].fillna('Never')"
      ],
      "execution_count": null,
      "outputs": []
    },
    {
      "cell_type": "markdown",
      "metadata": {
        "id": "FbHdeT3_aBfJ"
      },
      "source": [
        "#### 16- Work Tools Frequency SQL"
      ]
    },
    {
      "cell_type": "code",
      "metadata": {
        "colab": {
          "base_uri": "https://localhost:8080/"
        },
        "id": "2Ll_QI-PaF08",
        "outputId": "1548210c-cf10-42d5-d628-043003eba7e0"
      },
      "source": [
        "df[\"WorkToolsFrequencySQL\"].unique()"
      ],
      "execution_count": null,
      "outputs": [
        {
          "output_type": "execute_result",
          "data": {
            "text/plain": [
              "array(['Often', nan, 'Most of the time', 'Sometimes', 'Rarely'],\n",
              "      dtype=object)"
            ]
          },
          "metadata": {
            "tags": []
          },
          "execution_count": 550
        }
      ]
    },
    {
      "cell_type": "code",
      "metadata": {
        "id": "SeCHfFDNaIbD"
      },
      "source": [
        "df['WorkToolsFrequencySQL'] = df['WorkToolsFrequencySQL'].fillna('Never')\r\n",
        "df_test['WorkToolsFrequencySQL'] = df_test['WorkToolsFrequencySQL'].fillna('Never')"
      ],
      "execution_count": null,
      "outputs": []
    },
    {
      "cell_type": "markdown",
      "metadata": {
        "id": "CKPlwReVfl9m"
      },
      "source": [
        "#### 17- Work Tools Frequency Python"
      ]
    },
    {
      "cell_type": "code",
      "metadata": {
        "id": "XvBkiAkPfph4"
      },
      "source": [
        "df['WorkToolsFrequencyPython'] = df['WorkToolsFrequencyPython'].fillna('Never')\r\n",
        "df_test['WorkToolsFrequencyPython'] = df_test['WorkToolsFrequencyPython'].fillna('Never')"
      ],
      "execution_count": null,
      "outputs": []
    },
    {
      "cell_type": "markdown",
      "metadata": {
        "id": "XEtvPsFTZdYK"
      },
      "source": [
        "#### 18- Work Tools Frequency R"
      ]
    },
    {
      "cell_type": "code",
      "metadata": {
        "id": "a2bWtDA9Z7fz"
      },
      "source": [
        "df['WorkToolsFrequencyR'] = df['WorkToolsFrequencyR'].fillna('Never')\r\n",
        "df_test['WorkToolsFrequencyR'] = df_test['WorkToolsFrequencyR'].fillna('Never')"
      ],
      "execution_count": null,
      "outputs": []
    },
    {
      "cell_type": "markdown",
      "metadata": {
        "id": "e4wMJHM-uZ9b"
      },
      "source": [
        "### 1.B) Values Imputed With The Worst Available Option"
      ]
    },
    {
      "cell_type": "markdown",
      "metadata": {
        "id": "Dd2CXdxuZScQ"
      },
      "source": [
        "#### 1- Learning Platform Usefulness YouTube"
      ]
    },
    {
      "cell_type": "code",
      "metadata": {
        "colab": {
          "base_uri": "https://localhost:8080/"
        },
        "id": "5u0pExkKZWTJ",
        "outputId": "f9e172e9-2773-4e09-b614-2d5f58e7c18d"
      },
      "source": [
        "df[\"LearningPlatformUsefulnessYouTube\"].unique()"
      ],
      "execution_count": null,
      "outputs": [
        {
          "output_type": "execute_result",
          "data": {
            "text/plain": [
              "array(['Not Useful', nan, 'Somewhat useful', 'Very useful'], dtype=object)"
            ]
          },
          "metadata": {
            "tags": []
          },
          "execution_count": 554
        }
      ]
    },
    {
      "cell_type": "code",
      "metadata": {
        "id": "WJDoHqslZaBg"
      },
      "source": [
        "df['LearningPlatformUsefulnessYouTube'] = df['LearningPlatformUsefulnessYouTube'].fillna(\"Not Useful\")\r\n",
        "df_test['LearningPlatformUsefulnessYouTube'] = df_test['LearningPlatformUsefulnessYouTube'].fillna(\"Not Useful\")"
      ],
      "execution_count": null,
      "outputs": []
    },
    {
      "cell_type": "markdown",
      "metadata": {
        "id": "jsfpm0OlZGIc"
      },
      "source": [
        "#### 2- Learning Platform Usefulness Textbook"
      ]
    },
    {
      "cell_type": "code",
      "metadata": {
        "id": "oVCCrnXQZLdz"
      },
      "source": [
        "df['LearningPlatformUsefulnessTextbook'] = df['LearningPlatformUsefulnessTextbook'].fillna(\"Not Useful\")\r\n",
        "df_test['LearningPlatformUsefulnessTextbook'] = df_test['LearningPlatformUsefulnessTextbook'].fillna(\"Not Useful\")"
      ],
      "execution_count": null,
      "outputs": []
    },
    {
      "cell_type": "markdown",
      "metadata": {
        "id": "jopk4sN7Y6Kk"
      },
      "source": [
        "#### 3- Learning Platform Usefulness SO"
      ]
    },
    {
      "cell_type": "code",
      "metadata": {
        "id": "zLjk51tBY_sa"
      },
      "source": [
        "df['LearningPlatformUsefulnessSO'] = df['LearningPlatformUsefulnessSO'].fillna(\"Not Useful\")\r\n",
        "df_test['LearningPlatformUsefulnessSO'] = df_test['LearningPlatformUsefulnessSO'].fillna(\"Not Useful\")"
      ],
      "execution_count": null,
      "outputs": []
    },
    {
      "cell_type": "markdown",
      "metadata": {
        "id": "FC-zhNo5Yqcv"
      },
      "source": [
        "#### 4- Learning Platform Usefulness Projects"
      ]
    },
    {
      "cell_type": "code",
      "metadata": {
        "id": "3CRPd9cQY2wf"
      },
      "source": [
        "df['LearningPlatformUsefulnessProjects'] = df['LearningPlatformUsefulnessProjects'].fillna(\"Not Useful\")\r\n",
        "df_test['LearningPlatformUsefulnessProjects'] = df_test['LearningPlatformUsefulnessProjects'].fillna(\"Not Useful\")"
      ],
      "execution_count": null,
      "outputs": []
    },
    {
      "cell_type": "markdown",
      "metadata": {
        "id": "_oq7jyg4Yhsp"
      },
      "source": [
        "#### 5- Learning Platform Usefulness Courses         "
      ]
    },
    {
      "cell_type": "code",
      "metadata": {
        "id": "6HjSQsHIYnrz"
      },
      "source": [
        "df['LearningPlatformUsefulnessCourses'] = df['LearningPlatformUsefulnessCourses'].fillna(\"Not Useful\")\r\n",
        "df_test['LearningPlatformUsefulnessCourses'] = df_test['LearningPlatformUsefulnessCourses'].fillna(\"Not Useful\")"
      ],
      "execution_count": null,
      "outputs": []
    },
    {
      "cell_type": "markdown",
      "metadata": {
        "id": "idovJIEtYZDo"
      },
      "source": [
        "#### 6- Learning Platform Usefulness Kaggle          "
      ]
    },
    {
      "cell_type": "code",
      "metadata": {
        "id": "64mRZ_CsYdv0"
      },
      "source": [
        "df['LearningPlatformUsefulnessKaggle'] = df['LearningPlatformUsefulnessKaggle'].fillna(\"Not Useful\")\r\n",
        "df_test['LearningPlatformUsefulnessKaggle'] = df_test['LearningPlatformUsefulnessKaggle'].fillna(\"Not Useful\")"
      ],
      "execution_count": null,
      "outputs": []
    },
    {
      "cell_type": "markdown",
      "metadata": {
        "id": "jZmWsbkSX2Cx"
      },
      "source": [
        "#### 7- Learning Platform Usefulness Blogs"
      ]
    },
    {
      "cell_type": "code",
      "metadata": {
        "id": "SjzEbuPLYG35"
      },
      "source": [
        "df['LearningPlatformUsefulnessBlogs'] = df['LearningPlatformUsefulnessBlogs'].fillna(\"Not Useful\")\r\n",
        "df_test['LearningPlatformUsefulnessBlogs'] = df_test['LearningPlatformUsefulnessBlogs'].fillna(\"Not Useful\")\r\n"
      ],
      "execution_count": null,
      "outputs": []
    },
    {
      "cell_type": "markdown",
      "metadata": {
        "id": "NhY8DKC-v_XX"
      },
      "source": [
        "### 1.C) Values Imputed With Mode"
      ]
    },
    {
      "cell_type": "markdown",
      "metadata": {
        "id": "w_Q8Oz5l1W8C"
      },
      "source": [
        "#### 1- DataIdentity Select"
      ]
    },
    {
      "cell_type": "code",
      "metadata": {
        "colab": {
          "base_uri": "https://localhost:8080/",
          "height": 35
        },
        "id": "nbVa15JqszUT",
        "outputId": "ecdbb5c2-14ee-41f9-cd61-e5774e04493e"
      },
      "source": [
        "df['DataScienceIdentitySelect'].mode()[0]"
      ],
      "execution_count": null,
      "outputs": [
        {
          "output_type": "execute_result",
          "data": {
            "application/vnd.google.colaboratory.intrinsic+json": {
              "type": "string"
            },
            "text/plain": [
              "'Yes'"
            ]
          },
          "metadata": {
            "tags": []
          },
          "execution_count": 562
        }
      ]
    },
    {
      "cell_type": "code",
      "metadata": {
        "id": "-N3UlBQa1ax-"
      },
      "source": [
        "mode_temp = df['DataScienceIdentitySelect'].mode()[0]\r\n",
        "df['DataScienceIdentitySelect'] = df['DataScienceIdentitySelect'].fillna(mode_temp)"
      ],
      "execution_count": null,
      "outputs": []
    },
    {
      "cell_type": "code",
      "metadata": {
        "id": "eBKJYYgW3I7S"
      },
      "source": [
        "df_test['DataScienceIdentitySelect'] = df_test['DataScienceIdentitySelect'].fillna(mode_temp)"
      ],
      "execution_count": null,
      "outputs": []
    },
    {
      "cell_type": "markdown",
      "metadata": {
        "id": "_5gk6Z_iwf9Q"
      },
      "source": [
        "#### 2- Gender Select\r\n"
      ]
    },
    {
      "cell_type": "code",
      "metadata": {
        "id": "a8Og-zHnwwpW",
        "colab": {
          "base_uri": "https://localhost:8080/",
          "height": 35
        },
        "outputId": "02296078-2b1a-4dcd-e5a0-7bb970858476"
      },
      "source": [
        "df['GenderSelect'].mode()[0]"
      ],
      "execution_count": null,
      "outputs": [
        {
          "output_type": "execute_result",
          "data": {
            "application/vnd.google.colaboratory.intrinsic+json": {
              "type": "string"
            },
            "text/plain": [
              "'Male'"
            ]
          },
          "metadata": {
            "tags": []
          },
          "execution_count": 565
        }
      ]
    },
    {
      "cell_type": "code",
      "metadata": {
        "id": "dsFSh4V8wzVo"
      },
      "source": [
        "mode_temp = df['GenderSelect'].mode()[0]\r\n",
        "df['GenderSelect'] = df['GenderSelect'].fillna(mode_temp)"
      ],
      "execution_count": null,
      "outputs": []
    },
    {
      "cell_type": "code",
      "metadata": {
        "id": "iW-7q81tIW1x"
      },
      "source": [
        "df_test['GenderSelect'] = df_test['GenderSelect'].fillna(mode_temp)"
      ],
      "execution_count": null,
      "outputs": []
    },
    {
      "cell_type": "markdown",
      "metadata": {
        "id": "fJYhneEXxbq3"
      },
      "source": [
        "#### 3- Country"
      ]
    },
    {
      "cell_type": "code",
      "metadata": {
        "id": "Yk0FfkusxiL7",
        "colab": {
          "base_uri": "https://localhost:8080/",
          "height": 35
        },
        "outputId": "6f3adcc6-d9af-49b6-d890-df5814b13fce"
      },
      "source": [
        "df['Country'].mode()[0]"
      ],
      "execution_count": null,
      "outputs": [
        {
          "output_type": "execute_result",
          "data": {
            "application/vnd.google.colaboratory.intrinsic+json": {
              "type": "string"
            },
            "text/plain": [
              "'United States'"
            ]
          },
          "metadata": {
            "tags": []
          },
          "execution_count": 568
        }
      ]
    },
    {
      "cell_type": "code",
      "metadata": {
        "id": "lkXBOj_cye1R"
      },
      "source": [
        "mode_temp = df['Country'].mode()[0]\r\n",
        "df['Country'] = df['Country'].fillna(mode_temp)"
      ],
      "execution_count": null,
      "outputs": []
    },
    {
      "cell_type": "code",
      "metadata": {
        "id": "wEkmODrlJE3k"
      },
      "source": [
        "df_test['Country'] = df_test['Country'].fillna(mode_temp)"
      ],
      "execution_count": null,
      "outputs": []
    },
    {
      "cell_type": "markdown",
      "metadata": {
        "id": "Y0G71yshyl6l"
      },
      "source": [
        "#### 4- Age"
      ]
    },
    {
      "cell_type": "code",
      "metadata": {
        "id": "3La7jzAfynqp",
        "colab": {
          "base_uri": "https://localhost:8080/"
        },
        "outputId": "71b36c00-8916-4b79-ba2f-e6859a5970ce"
      },
      "source": [
        "df['Age'].mode()[0]"
      ],
      "execution_count": null,
      "outputs": [
        {
          "output_type": "execute_result",
          "data": {
            "text/plain": [
              "28.0"
            ]
          },
          "metadata": {
            "tags": []
          },
          "execution_count": 571
        }
      ]
    },
    {
      "cell_type": "code",
      "metadata": {
        "id": "wBvlipvlyoye"
      },
      "source": [
        "mode_temp = df['Age'].mode()[0]\r\n",
        "df['Age'] = df['Age'].fillna(mode_temp)"
      ],
      "execution_count": null,
      "outputs": []
    },
    {
      "cell_type": "code",
      "metadata": {
        "id": "Wvxo_Y5IJW4N"
      },
      "source": [
        "df_test['Age'] = df_test['Age'].fillna(mode_temp)"
      ],
      "execution_count": null,
      "outputs": []
    },
    {
      "cell_type": "markdown",
      "metadata": {
        "id": "J4dA2y2JzBEj"
      },
      "source": [
        "#### 5- Current Job Title Select"
      ]
    },
    {
      "cell_type": "code",
      "metadata": {
        "id": "fmW6P3AnzHRM",
        "colab": {
          "base_uri": "https://localhost:8080/",
          "height": 35
        },
        "outputId": "aa5e9b9a-016d-4651-dbb6-99fe34513f9a"
      },
      "source": [
        "df['CurrentJobTitleSelect'].mode()[0]"
      ],
      "execution_count": null,
      "outputs": [
        {
          "output_type": "execute_result",
          "data": {
            "application/vnd.google.colaboratory.intrinsic+json": {
              "type": "string"
            },
            "text/plain": [
              "'Data Scientist'"
            ]
          },
          "metadata": {
            "tags": []
          },
          "execution_count": 574
        }
      ]
    },
    {
      "cell_type": "code",
      "metadata": {
        "id": "SKsyUthTzfir"
      },
      "source": [
        "mode_temp = df['CurrentJobTitleSelect'].mode()[0]\r\n",
        "df['CurrentJobTitleSelect'] = df['CurrentJobTitleSelect'].fillna(mode_temp)"
      ],
      "execution_count": null,
      "outputs": []
    },
    {
      "cell_type": "code",
      "metadata": {
        "id": "TEt1KFnsJ2W6"
      },
      "source": [
        "df_test['CurrentJobTitleSelect'] = df_test['CurrentJobTitleSelect'].fillna(mode_temp)"
      ],
      "execution_count": null,
      "outputs": []
    },
    {
      "cell_type": "markdown",
      "metadata": {
        "id": "Plhnitxlzodw"
      },
      "source": [
        "#### 6- Title Fit\r\n"
      ]
    },
    {
      "cell_type": "code",
      "metadata": {
        "id": "cKMRMGKBz1nt",
        "colab": {
          "base_uri": "https://localhost:8080/",
          "height": 35
        },
        "outputId": "047ec363-2f9f-47f3-b8a0-8ff9eadb466a"
      },
      "source": [
        "df['TitleFit'].mode()[0]"
      ],
      "execution_count": null,
      "outputs": [
        {
          "output_type": "execute_result",
          "data": {
            "application/vnd.google.colaboratory.intrinsic+json": {
              "type": "string"
            },
            "text/plain": [
              "'Fine'"
            ]
          },
          "metadata": {
            "tags": []
          },
          "execution_count": 577
        }
      ]
    },
    {
      "cell_type": "code",
      "metadata": {
        "id": "chMfe9eez-6M"
      },
      "source": [
        "mode_temp = df['TitleFit'].mode()[0]\r\n",
        "df['TitleFit'] = df['TitleFit'].fillna(mode_temp)"
      ],
      "execution_count": null,
      "outputs": []
    },
    {
      "cell_type": "code",
      "metadata": {
        "id": "JGB_gzfNKSLG"
      },
      "source": [
        "df_test['TitleFit'] = df_test['TitleFit'].fillna(mode_temp)"
      ],
      "execution_count": null,
      "outputs": []
    },
    {
      "cell_type": "markdown",
      "metadata": {
        "id": "nDYUxTxV0HQd"
      },
      "source": [
        "#### 7- Current Employer Type"
      ]
    },
    {
      "cell_type": "code",
      "metadata": {
        "id": "4aGEeHpe2ygo",
        "colab": {
          "base_uri": "https://localhost:8080/",
          "height": 35
        },
        "outputId": "8e7683ea-89b0-45ce-9190-fd2676e45907"
      },
      "source": [
        "df['CurrentEmployerType'].mode()[0]"
      ],
      "execution_count": null,
      "outputs": [
        {
          "output_type": "execute_result",
          "data": {
            "application/vnd.google.colaboratory.intrinsic+json": {
              "type": "string"
            },
            "text/plain": [
              "'Employed by a company that performs advanced analytics'"
            ]
          },
          "metadata": {
            "tags": []
          },
          "execution_count": 580
        }
      ]
    },
    {
      "cell_type": "code",
      "metadata": {
        "id": "94RjrDOG21yC"
      },
      "source": [
        "mode_temp = df['CurrentEmployerType'].mode()[0]\r\n",
        "df['CurrentEmployerType'] = df['CurrentEmployerType'].fillna(mode_temp)"
      ],
      "execution_count": null,
      "outputs": []
    },
    {
      "cell_type": "code",
      "metadata": {
        "id": "BhRNleyOK1xs"
      },
      "source": [
        "df_test['CurrentEmployerType'] = df_test['CurrentEmployerType'].fillna(mode_temp)"
      ],
      "execution_count": null,
      "outputs": []
    },
    {
      "cell_type": "markdown",
      "metadata": {
        "id": "8HoeAv4B3l4W"
      },
      "source": [
        "#### 8- ML Tool Next Year Select"
      ]
    },
    {
      "cell_type": "code",
      "metadata": {
        "colab": {
          "base_uri": "https://localhost:8080/",
          "height": 35
        },
        "id": "RllucFbru_EZ",
        "outputId": "8b213fe1-82a5-4499-b0c8-ac2a475a2170"
      },
      "source": [
        "df['MLToolNextYearSelect'].mode()[0]"
      ],
      "execution_count": null,
      "outputs": [
        {
          "output_type": "execute_result",
          "data": {
            "application/vnd.google.colaboratory.intrinsic+json": {
              "type": "string"
            },
            "text/plain": [
              "'TensorFlow'"
            ]
          },
          "metadata": {
            "tags": []
          },
          "execution_count": 583
        }
      ]
    },
    {
      "cell_type": "code",
      "metadata": {
        "id": "iAT-LgmY3twh"
      },
      "source": [
        "mode_temp = df['MLToolNextYearSelect'].mode()[0]\r\n",
        "df['MLToolNextYearSelect'] = df['MLToolNextYearSelect'].fillna(mode_temp)"
      ],
      "execution_count": null,
      "outputs": []
    },
    {
      "cell_type": "code",
      "metadata": {
        "id": "9NmHSd56LTvF"
      },
      "source": [
        "df_test['MLToolNextYearSelect'] = df_test['MLToolNextYearSelect'].fillna(mode_temp)"
      ],
      "execution_count": null,
      "outputs": []
    },
    {
      "cell_type": "markdown",
      "metadata": {
        "id": "ll50zlgY4GxW"
      },
      "source": [
        "#### 9- ML Method Next Year Select"
      ]
    },
    {
      "cell_type": "code",
      "metadata": {
        "colab": {
          "base_uri": "https://localhost:8080/",
          "height": 35
        },
        "id": "4_wYjruivVMu",
        "outputId": "6b6b32bf-b8ca-4b59-c6e2-4cfdeddbe455"
      },
      "source": [
        "df['MLMethodNextYearSelect'].mode()[0]"
      ],
      "execution_count": null,
      "outputs": [
        {
          "output_type": "execute_result",
          "data": {
            "application/vnd.google.colaboratory.intrinsic+json": {
              "type": "string"
            },
            "text/plain": [
              "'Deep learning'"
            ]
          },
          "metadata": {
            "tags": []
          },
          "execution_count": 586
        }
      ]
    },
    {
      "cell_type": "code",
      "metadata": {
        "id": "8dIajBA24LJr"
      },
      "source": [
        "mode_temp = df['MLMethodNextYearSelect'].mode()[0]\r\n",
        "df['MLMethodNextYearSelect'] = df['MLMethodNextYearSelect'].fillna(mode_temp)"
      ],
      "execution_count": null,
      "outputs": []
    },
    {
      "cell_type": "code",
      "metadata": {
        "id": "5ofLLvykLlK8"
      },
      "source": [
        "df_test['MLMethodNextYearSelect'] = df_test['MLMethodNextYearSelect'].fillna(mode_temp)"
      ],
      "execution_count": null,
      "outputs": []
    },
    {
      "cell_type": "markdown",
      "metadata": {
        "id": "CypQMBrI4Pbd"
      },
      "source": [
        "#### 10-Language Recommendation Select"
      ]
    },
    {
      "cell_type": "code",
      "metadata": {
        "colab": {
          "base_uri": "https://localhost:8080/",
          "height": 35
        },
        "id": "CfVIfo7rvm1W",
        "outputId": "7ea30d55-55ef-4886-cce0-52a114341726"
      },
      "source": [
        "df['LanguageRecommendationSelect'].mode()[0]"
      ],
      "execution_count": null,
      "outputs": [
        {
          "output_type": "execute_result",
          "data": {
            "application/vnd.google.colaboratory.intrinsic+json": {
              "type": "string"
            },
            "text/plain": [
              "'Python'"
            ]
          },
          "metadata": {
            "tags": []
          },
          "execution_count": 589
        }
      ]
    },
    {
      "cell_type": "code",
      "metadata": {
        "id": "67Nwns5N4Ttn"
      },
      "source": [
        "mode_temp = df['LanguageRecommendationSelect'].mode()[0]\r\n",
        "df['LanguageRecommendationSelect'] = df['LanguageRecommendationSelect'].fillna(mode_temp)"
      ],
      "execution_count": null,
      "outputs": []
    },
    {
      "cell_type": "code",
      "metadata": {
        "id": "uoJ_AwHUL9L_"
      },
      "source": [
        "df_test['LanguageRecommendationSelect'] = df_test['LanguageRecommendationSelect'].fillna(mode_temp)"
      ],
      "execution_count": null,
      "outputs": []
    },
    {
      "cell_type": "markdown",
      "metadata": {
        "id": "7qCW3K1s4qUG"
      },
      "source": [
        "#### 11- Formal Education"
      ]
    },
    {
      "cell_type": "code",
      "metadata": {
        "colab": {
          "base_uri": "https://localhost:8080/",
          "height": 35
        },
        "id": "8JwxHgpsvxF7",
        "outputId": "68aa0a77-1512-4ef2-ed93-accc720c381c"
      },
      "source": [
        "df['FormalEducation'].mode()[0]"
      ],
      "execution_count": null,
      "outputs": [
        {
          "output_type": "execute_result",
          "data": {
            "application/vnd.google.colaboratory.intrinsic+json": {
              "type": "string"
            },
            "text/plain": [
              "\"Master's degree\""
            ]
          },
          "metadata": {
            "tags": []
          },
          "execution_count": 592
        }
      ]
    },
    {
      "cell_type": "code",
      "metadata": {
        "id": "VyI0w4Ix4ur_"
      },
      "source": [
        "mode_temp = df['FormalEducation'].mode()[0]\r\n",
        "df['FormalEducation'] = df['FormalEducation'].fillna(mode_temp)"
      ],
      "execution_count": null,
      "outputs": []
    },
    {
      "cell_type": "code",
      "metadata": {
        "id": "VCoGiYYHMjjn"
      },
      "source": [
        "df_test['FormalEducation'] = df_test['FormalEducation'].fillna(mode_temp)"
      ],
      "execution_count": null,
      "outputs": []
    },
    {
      "cell_type": "markdown",
      "metadata": {
        "id": "aUdo9FGz49Bj"
      },
      "source": [
        "#### 12- Major Select"
      ]
    },
    {
      "cell_type": "code",
      "metadata": {
        "colab": {
          "base_uri": "https://localhost:8080/",
          "height": 35
        },
        "id": "fmuzqoAuv_rq",
        "outputId": "7eeb21e0-83bb-4da3-c926-aa24ba55ccf3"
      },
      "source": [
        "df['MajorSelect'].mode()[0]"
      ],
      "execution_count": null,
      "outputs": [
        {
          "output_type": "execute_result",
          "data": {
            "application/vnd.google.colaboratory.intrinsic+json": {
              "type": "string"
            },
            "text/plain": [
              "'Computer Science'"
            ]
          },
          "metadata": {
            "tags": []
          },
          "execution_count": 595
        }
      ]
    },
    {
      "cell_type": "code",
      "metadata": {
        "id": "R24qJiL24_QP"
      },
      "source": [
        "mode_temp = df['MajorSelect'].mode()[0]\r\n",
        "df['MajorSelect'] = df['MajorSelect'].fillna(mode_temp)"
      ],
      "execution_count": null,
      "outputs": []
    },
    {
      "cell_type": "code",
      "metadata": {
        "id": "mz2ZstOmM5MM"
      },
      "source": [
        "df_test['MajorSelect'] = df_test['MajorSelect'].fillna(mode_temp)"
      ],
      "execution_count": null,
      "outputs": []
    },
    {
      "cell_type": "markdown",
      "metadata": {
        "id": "efazyKZm5DWn"
      },
      "source": [
        "#### 13- Tenure"
      ]
    },
    {
      "cell_type": "code",
      "metadata": {
        "colab": {
          "base_uri": "https://localhost:8080/",
          "height": 35
        },
        "id": "ZPfHDJF-wKHO",
        "outputId": "4322d053-90b3-4a65-c21f-a5f22d97488f"
      },
      "source": [
        "df['Tenure'].mode()[0]"
      ],
      "execution_count": null,
      "outputs": [
        {
          "output_type": "execute_result",
          "data": {
            "application/vnd.google.colaboratory.intrinsic+json": {
              "type": "string"
            },
            "text/plain": [
              "'3 to 5 years'"
            ]
          },
          "metadata": {
            "tags": []
          },
          "execution_count": 598
        }
      ]
    },
    {
      "cell_type": "code",
      "metadata": {
        "id": "nxEzBvQE5FGN"
      },
      "source": [
        "mode_temp = df['Tenure'].mode()[0]\r\n",
        "df['Tenure'] = df['Tenure'].fillna(mode_temp)"
      ],
      "execution_count": null,
      "outputs": []
    },
    {
      "cell_type": "code",
      "metadata": {
        "id": "v4o8-3uvNNSn"
      },
      "source": [
        "df_test['Tenure'] = df_test['Tenure'].fillna(mode_temp)"
      ],
      "execution_count": null,
      "outputs": []
    },
    {
      "cell_type": "markdown",
      "metadata": {
        "id": "jFHong2w5MZU"
      },
      "source": [
        "#### 14- Past Job Title Select"
      ]
    },
    {
      "cell_type": "code",
      "metadata": {
        "colab": {
          "base_uri": "https://localhost:8080/",
          "height": 35
        },
        "id": "VtAtEP77wWF3",
        "outputId": "8b8cbf99-1b21-4e76-ae5f-f38b87ee4e3b"
      },
      "source": [
        "df['PastJobTitlesSelect'].mode()[0]"
      ],
      "execution_count": null,
      "outputs": [
        {
          "output_type": "execute_result",
          "data": {
            "application/vnd.google.colaboratory.intrinsic+json": {
              "type": "string"
            },
            "text/plain": [
              "'Researcher'"
            ]
          },
          "metadata": {
            "tags": []
          },
          "execution_count": 601
        }
      ]
    },
    {
      "cell_type": "code",
      "metadata": {
        "id": "WckhEOZh5PaK"
      },
      "source": [
        "mode_temp = df['PastJobTitlesSelect'].mode()[0]\r\n",
        "df['PastJobTitlesSelect'] = df['PastJobTitlesSelect'].fillna(mode_temp)"
      ],
      "execution_count": null,
      "outputs": []
    },
    {
      "cell_type": "code",
      "metadata": {
        "id": "ucsEte1nOP93"
      },
      "source": [
        "df_test['PastJobTitlesSelect'] = df_test['PastJobTitlesSelect'].fillna(mode_temp)"
      ],
      "execution_count": null,
      "outputs": []
    },
    {
      "cell_type": "markdown",
      "metadata": {
        "id": "KazRZgfg5jlu"
      },
      "source": [
        "#### 15- ML Skills Select"
      ]
    },
    {
      "cell_type": "code",
      "metadata": {
        "colab": {
          "base_uri": "https://localhost:8080/",
          "height": 35
        },
        "id": "5YxZdyWawnV9",
        "outputId": "6f4d87ab-4be5-40d0-c87a-143fcf4ea060"
      },
      "source": [
        "df['MLSkillsSelect'].mode()[0]"
      ],
      "execution_count": null,
      "outputs": [
        {
          "output_type": "execute_result",
          "data": {
            "application/vnd.google.colaboratory.intrinsic+json": {
              "type": "string"
            },
            "text/plain": [
              "'Supervised Machine Learning (Tabular Data)'"
            ]
          },
          "metadata": {
            "tags": []
          },
          "execution_count": 604
        }
      ]
    },
    {
      "cell_type": "code",
      "metadata": {
        "id": "a-wdGK6W5neK"
      },
      "source": [
        "mode_temp = df['MLSkillsSelect'].mode()[0]\r\n",
        "df['MLSkillsSelect'] = df['MLSkillsSelect'].fillna(mode_temp)"
      ],
      "execution_count": null,
      "outputs": []
    },
    {
      "cell_type": "code",
      "metadata": {
        "id": "H18QX5WUOnEu"
      },
      "source": [
        "df_test['MLSkillsSelect'] = df_test['MLSkillsSelect'].fillna(mode_temp)"
      ],
      "execution_count": null,
      "outputs": []
    },
    {
      "cell_type": "markdown",
      "metadata": {
        "id": "v6HInqUv50vZ"
      },
      "source": [
        "#### 16- ML Techniques Select"
      ]
    },
    {
      "cell_type": "code",
      "metadata": {
        "colab": {
          "base_uri": "https://localhost:8080/",
          "height": 35
        },
        "id": "IbRaSRVvw2Il",
        "outputId": "be41a912-54e2-4bf8-dfaa-d9c8e94368a3"
      },
      "source": [
        "df['MLTechniquesSelect'].mode()[0]"
      ],
      "execution_count": null,
      "outputs": [
        {
          "output_type": "execute_result",
          "data": {
            "application/vnd.google.colaboratory.intrinsic+json": {
              "type": "string"
            },
            "text/plain": [
              "'Logistic Regression'"
            ]
          },
          "metadata": {
            "tags": []
          },
          "execution_count": 607
        }
      ]
    },
    {
      "cell_type": "code",
      "metadata": {
        "id": "sm6ok5PY53nV"
      },
      "source": [
        "mode_temp = df['MLTechniquesSelect'].mode()[0]\r\n",
        "df['MLTechniquesSelect'] = df['MLTechniquesSelect'].fillna(mode_temp)"
      ],
      "execution_count": null,
      "outputs": []
    },
    {
      "cell_type": "code",
      "metadata": {
        "id": "gzv-pej1O7BZ"
      },
      "source": [
        "df_test['MLTechniquesSelect'] = df_test['MLTechniquesSelect'].fillna(mode_temp)"
      ],
      "execution_count": null,
      "outputs": []
    },
    {
      "cell_type": "markdown",
      "metadata": {
        "id": "NiKJvMb859Y_"
      },
      "source": [
        "#### 17- Employer Industry"
      ]
    },
    {
      "cell_type": "code",
      "metadata": {
        "colab": {
          "base_uri": "https://localhost:8080/",
          "height": 35
        },
        "id": "rCjbEVj4xBEZ",
        "outputId": "a0c0666c-576f-4897-9a23-246ca4235829"
      },
      "source": [
        "df['EmployerIndustry'].mode()[0]"
      ],
      "execution_count": null,
      "outputs": [
        {
          "output_type": "execute_result",
          "data": {
            "application/vnd.google.colaboratory.intrinsic+json": {
              "type": "string"
            },
            "text/plain": [
              "'Technology'"
            ]
          },
          "metadata": {
            "tags": []
          },
          "execution_count": 610
        }
      ]
    },
    {
      "cell_type": "code",
      "metadata": {
        "id": "wggT9Ajq6ALW"
      },
      "source": [
        "mode_temp = df['EmployerIndustry'].mode()[0]\r\n",
        "df['EmployerIndustry'] = df['EmployerIndustry'].fillna(mode_temp)"
      ],
      "execution_count": null,
      "outputs": []
    },
    {
      "cell_type": "code",
      "metadata": {
        "id": "bO29F368PSco"
      },
      "source": [
        "df_test['EmployerIndustry'] = df_test['EmployerIndustry'].fillna(mode_temp)"
      ],
      "execution_count": null,
      "outputs": []
    },
    {
      "cell_type": "markdown",
      "metadata": {
        "id": "c_NGzL4X6RvL"
      },
      "source": [
        "#### 18- Employer Size"
      ]
    },
    {
      "cell_type": "code",
      "metadata": {
        "colab": {
          "base_uri": "https://localhost:8080/",
          "height": 35
        },
        "id": "djYVoy66xNWY",
        "outputId": "4b4116dc-bb3b-4312-980d-588e9e18d145"
      },
      "source": [
        "df['EmployerSize'].mode()[0]"
      ],
      "execution_count": null,
      "outputs": [
        {
          "output_type": "execute_result",
          "data": {
            "application/vnd.google.colaboratory.intrinsic+json": {
              "type": "string"
            },
            "text/plain": [
              "'10,000 or more employees'"
            ]
          },
          "metadata": {
            "tags": []
          },
          "execution_count": 613
        }
      ]
    },
    {
      "cell_type": "code",
      "metadata": {
        "id": "WUGCCrwf6UnA"
      },
      "source": [
        "mode_temp = df['EmployerSize'].mode()[0]\r\n",
        "df['EmployerSize'] = df['EmployerSize'].fillna(mode_temp)"
      ],
      "execution_count": null,
      "outputs": []
    },
    {
      "cell_type": "code",
      "metadata": {
        "id": "L5BtV61IPqne"
      },
      "source": [
        "df_test['EmployerSize'] = df_test['EmployerSize'].fillna(mode_temp)"
      ],
      "execution_count": null,
      "outputs": []
    },
    {
      "cell_type": "markdown",
      "metadata": {
        "id": "ioF8stnb6dJm"
      },
      "source": [
        "#### 19- Work Production Frequency"
      ]
    },
    {
      "cell_type": "code",
      "metadata": {
        "colab": {
          "base_uri": "https://localhost:8080/",
          "height": 35
        },
        "id": "QQBH_ZGkxbmX",
        "outputId": "82810616-6cd5-426e-93de-f63fcfdc88b1"
      },
      "source": [
        "df['WorkProductionFrequency'].mode()[0]"
      ],
      "execution_count": null,
      "outputs": [
        {
          "output_type": "execute_result",
          "data": {
            "application/vnd.google.colaboratory.intrinsic+json": {
              "type": "string"
            },
            "text/plain": [
              "'Sometimes'"
            ]
          },
          "metadata": {
            "tags": []
          },
          "execution_count": 616
        }
      ]
    },
    {
      "cell_type": "code",
      "metadata": {
        "id": "xhi7z8K26gOB"
      },
      "source": [
        "mode_temp = df['WorkProductionFrequency'].mode()[0]\r\n",
        "df['WorkProductionFrequency'] = df['WorkProductionFrequency'].fillna(mode_temp)"
      ],
      "execution_count": null,
      "outputs": []
    },
    {
      "cell_type": "code",
      "metadata": {
        "id": "Mw_0l7vGP3lA"
      },
      "source": [
        "df_test['WorkProductionFrequency'] = df_test['WorkProductionFrequency'].fillna(mode_temp)"
      ],
      "execution_count": null,
      "outputs": []
    },
    {
      "cell_type": "markdown",
      "metadata": {
        "id": "Yi6FB3V46vbW"
      },
      "source": [
        "#### 20- Work Algorithm Select"
      ]
    },
    {
      "cell_type": "code",
      "metadata": {
        "colab": {
          "base_uri": "https://localhost:8080/",
          "height": 35
        },
        "id": "OfnZAzPXxjss",
        "outputId": "54956fa4-e6a3-4e99-f671-bfd7c71c9de5"
      },
      "source": [
        "df['WorkAlgorithmsSelect'].mode()[0]"
      ],
      "execution_count": null,
      "outputs": [
        {
          "output_type": "execute_result",
          "data": {
            "application/vnd.google.colaboratory.intrinsic+json": {
              "type": "string"
            },
            "text/plain": [
              "'Regression/Logistic Regression'"
            ]
          },
          "metadata": {
            "tags": []
          },
          "execution_count": 619
        }
      ]
    },
    {
      "cell_type": "code",
      "metadata": {
        "id": "dGbYUYta6za0"
      },
      "source": [
        "mode_temp = df['WorkAlgorithmsSelect'].mode()[0]\r\n",
        "df['WorkAlgorithmsSelect'] = df['WorkAlgorithmsSelect'].fillna(mode_temp)"
      ],
      "execution_count": null,
      "outputs": []
    },
    {
      "cell_type": "code",
      "metadata": {
        "id": "-7bnTsGoQEQ8"
      },
      "source": [
        "df_test['WorkAlgorithmsSelect'] = df_test['WorkAlgorithmsSelect'].fillna(mode_temp)"
      ],
      "execution_count": null,
      "outputs": []
    },
    {
      "cell_type": "markdown",
      "metadata": {
        "id": "a-FM7z_Z7irQ"
      },
      "source": [
        "#### 21- Work Tools Frequency Python"
      ]
    },
    {
      "cell_type": "code",
      "metadata": {
        "colab": {
          "base_uri": "https://localhost:8080/",
          "height": 35
        },
        "id": "_UdHnJ5UxtfY",
        "outputId": "5e49c77c-2213-4a97-e93c-208a3be0e9ab"
      },
      "source": [
        "df['WorkToolsFrequencyPython'].mode()[0]"
      ],
      "execution_count": null,
      "outputs": [
        {
          "output_type": "execute_result",
          "data": {
            "application/vnd.google.colaboratory.intrinsic+json": {
              "type": "string"
            },
            "text/plain": [
              "'Most of the time'"
            ]
          },
          "metadata": {
            "tags": []
          },
          "execution_count": 622
        }
      ]
    },
    {
      "cell_type": "code",
      "metadata": {
        "id": "Wu84tNaZ7pOr"
      },
      "source": [
        "mode_temp = df['WorkToolsFrequencyPython'].mode()[0]\r\n",
        "df['WorkToolsFrequencyPython'] = df['WorkToolsFrequencyPython'].fillna(mode_temp)"
      ],
      "execution_count": null,
      "outputs": []
    },
    {
      "cell_type": "code",
      "metadata": {
        "id": "3kyfMBjsQRym"
      },
      "source": [
        "df_test['WorkToolsFrequencyPython'] = df_test['WorkToolsFrequencyPython'].fillna(mode_temp)"
      ],
      "execution_count": null,
      "outputs": []
    },
    {
      "cell_type": "markdown",
      "metadata": {
        "id": "lk_sAb3t7vLt"
      },
      "source": [
        "#### 22- Compensation Score"
      ]
    },
    {
      "cell_type": "code",
      "metadata": {
        "colab": {
          "base_uri": "https://localhost:8080/"
        },
        "id": "oJJZWqp7yOxK",
        "outputId": "9322fc08-aedb-4a99-8a2c-9d139d31d852"
      },
      "source": [
        "df['CompensationScore'].mode()[0]"
      ],
      "execution_count": null,
      "outputs": [
        {
          "output_type": "execute_result",
          "data": {
            "text/plain": [
              "8.0"
            ]
          },
          "metadata": {
            "tags": []
          },
          "execution_count": 625
        }
      ]
    },
    {
      "cell_type": "code",
      "metadata": {
        "id": "uxXkJT2H7yUw"
      },
      "source": [
        "mode_temp = df['CompensationScore'].mode()[0]\r\n",
        "df['CompensationScore'] = df['CompensationScore'].fillna(mode_temp)"
      ],
      "execution_count": null,
      "outputs": []
    },
    {
      "cell_type": "code",
      "metadata": {
        "id": "2NkfITPBQgWQ"
      },
      "source": [
        "df_test['CompensationScore'] = df_test['CompensationScore'].fillna(mode_temp)"
      ],
      "execution_count": null,
      "outputs": []
    },
    {
      "cell_type": "markdown",
      "metadata": {
        "id": "g5kpxQaG-C9p"
      },
      "source": [
        "#### 23- Work Data Visualizations"
      ]
    },
    {
      "cell_type": "code",
      "metadata": {
        "colab": {
          "base_uri": "https://localhost:8080/",
          "height": 35
        },
        "id": "ESOcDCViyXqI",
        "outputId": "9cf0521f-3aba-4a0f-f637-0a1b5582aba2"
      },
      "source": [
        "df['WorkDataVisualizations'].mode()[0]"
      ],
      "execution_count": null,
      "outputs": [
        {
          "output_type": "execute_result",
          "data": {
            "application/vnd.google.colaboratory.intrinsic+json": {
              "type": "string"
            },
            "text/plain": [
              "'100% of projects'"
            ]
          },
          "metadata": {
            "tags": []
          },
          "execution_count": 628
        }
      ]
    },
    {
      "cell_type": "code",
      "metadata": {
        "id": "3Ma7nneh-LK4"
      },
      "source": [
        "mode_temp = df['WorkDataVisualizations'].mode()[0]\r\n",
        "df['WorkDataVisualizations'] = df['WorkDataVisualizations'].fillna(mode_temp)"
      ],
      "execution_count": null,
      "outputs": []
    },
    {
      "cell_type": "code",
      "metadata": {
        "id": "PnD-AGZiQ5yA"
      },
      "source": [
        "df_test['WorkDataVisualizations'] = df_test['WorkDataVisualizations'].fillna(mode_temp)"
      ],
      "execution_count": null,
      "outputs": []
    },
    {
      "cell_type": "markdown",
      "metadata": {
        "id": "7lj1c7Rg-bEc"
      },
      "source": [
        "#### 24- Work Internal Vs External Tools"
      ]
    },
    {
      "cell_type": "code",
      "metadata": {
        "colab": {
          "base_uri": "https://localhost:8080/",
          "height": 35
        },
        "id": "Owewaid0yhsL",
        "outputId": "8274d674-d044-4b7f-87c2-5e3efd49466f"
      },
      "source": [
        "df['WorkInternalVsExternalTools'].mode()[0]"
      ],
      "execution_count": null,
      "outputs": [
        {
          "output_type": "execute_result",
          "data": {
            "application/vnd.google.colaboratory.intrinsic+json": {
              "type": "string"
            },
            "text/plain": [
              "'More internal than external'"
            ]
          },
          "metadata": {
            "tags": []
          },
          "execution_count": 631
        }
      ]
    },
    {
      "cell_type": "code",
      "metadata": {
        "id": "wTrWzqMG-fdA"
      },
      "source": [
        "mode_temp = df['WorkInternalVsExternalTools'].mode()[0]\r\n",
        "df['WorkInternalVsExternalTools'] = df['WorkInternalVsExternalTools'].fillna(mode_temp)"
      ],
      "execution_count": null,
      "outputs": []
    },
    {
      "cell_type": "code",
      "metadata": {
        "id": "nhSCubFhRLjl"
      },
      "source": [
        "df_test['WorkInternalVsExternalTools'] = df_test['WorkInternalVsExternalTools'].fillna(mode_temp)"
      ],
      "execution_count": null,
      "outputs": []
    },
    {
      "cell_type": "markdown",
      "metadata": {
        "id": "kdHuXkli-vg4"
      },
      "source": [
        "#### 25- Work ML Team Seat Select"
      ]
    },
    {
      "cell_type": "code",
      "metadata": {
        "colab": {
          "base_uri": "https://localhost:8080/",
          "height": 35
        },
        "id": "i3VoGhRPysR-",
        "outputId": "2f152081-477a-475a-ceec-685ebcc6b333"
      },
      "source": [
        "df['WorkMLTeamSeatSelect'].mode()[0]"
      ],
      "execution_count": null,
      "outputs": [
        {
          "output_type": "execute_result",
          "data": {
            "application/vnd.google.colaboratory.intrinsic+json": {
              "type": "string"
            },
            "text/plain": [
              "'Standalone Team'"
            ]
          },
          "metadata": {
            "tags": []
          },
          "execution_count": 634
        }
      ]
    },
    {
      "cell_type": "code",
      "metadata": {
        "id": "58IsvFMf-0VJ"
      },
      "source": [
        "mode_temp = df['WorkMLTeamSeatSelect'].mode()[0]\r\n",
        "df['WorkMLTeamSeatSelect'] = df['WorkMLTeamSeatSelect'].fillna(mode_temp)"
      ],
      "execution_count": null,
      "outputs": []
    },
    {
      "cell_type": "code",
      "metadata": {
        "id": "wM8bz0z-Rf2b"
      },
      "source": [
        "df_test['WorkMLTeamSeatSelect'] = df_test['WorkMLTeamSeatSelect'].fillna(mode_temp)"
      ],
      "execution_count": null,
      "outputs": []
    },
    {
      "cell_type": "markdown",
      "metadata": {
        "id": "57DmbkI3--_H"
      },
      "source": [
        "#### 26- Remote Work"
      ]
    },
    {
      "cell_type": "code",
      "metadata": {
        "colab": {
          "base_uri": "https://localhost:8080/",
          "height": 35
        },
        "id": "D-X3lAFoy1Xs",
        "outputId": "dc9e1177-8ae6-4f1f-86cb-d61e896264a7"
      },
      "source": [
        "df['RemoteWork'].mode()[0]"
      ],
      "execution_count": null,
      "outputs": [
        {
          "output_type": "execute_result",
          "data": {
            "application/vnd.google.colaboratory.intrinsic+json": {
              "type": "string"
            },
            "text/plain": [
              "'Sometimes'"
            ]
          },
          "metadata": {
            "tags": []
          },
          "execution_count": 637
        }
      ]
    },
    {
      "cell_type": "code",
      "metadata": {
        "id": "TkOzH2f-_HhY"
      },
      "source": [
        "mode_temp = df['RemoteWork'].mode()[0]\r\n",
        "df['RemoteWork'] = df['RemoteWork'].fillna(mode_temp)"
      ],
      "execution_count": null,
      "outputs": []
    },
    {
      "cell_type": "code",
      "metadata": {
        "id": "O65PTcYsRstv"
      },
      "source": [
        "df_test['RemoteWork'] = df_test['RemoteWork'].fillna(mode_temp)"
      ],
      "execution_count": null,
      "outputs": []
    },
    {
      "cell_type": "markdown",
      "metadata": {
        "id": "oLlJ_P2Xb6XA"
      },
      "source": [
        "#### 27- Work Methods Frequency Data Visualization"
      ]
    },
    {
      "cell_type": "code",
      "metadata": {
        "colab": {
          "base_uri": "https://localhost:8080/",
          "height": 35
        },
        "id": "ITmHnQbAy-R7",
        "outputId": "324983f8-df24-4a45-f421-c58717377b3c"
      },
      "source": [
        "df['WorkMethodsFrequencyDataVisualization'].mode()[0]"
      ],
      "execution_count": null,
      "outputs": [
        {
          "output_type": "execute_result",
          "data": {
            "application/vnd.google.colaboratory.intrinsic+json": {
              "type": "string"
            },
            "text/plain": [
              "'Most of the time'"
            ]
          },
          "metadata": {
            "tags": []
          },
          "execution_count": 640
        }
      ]
    },
    {
      "cell_type": "code",
      "metadata": {
        "id": "1PgEceKacCNl"
      },
      "source": [
        "mode_temp = df['WorkMethodsFrequencyDataVisualization'].mode()[0]\r\n",
        "df['WorkMethodsFrequencyDataVisualization'] = df['WorkMethodsFrequencyDataVisualization'].fillna(mode_temp)"
      ],
      "execution_count": null,
      "outputs": []
    },
    {
      "cell_type": "code",
      "metadata": {
        "id": "AQY4hOugcQ43"
      },
      "source": [
        "df_test['WorkMethodsFrequencyDataVisualization'] = df_test['WorkMethodsFrequencyDataVisualization'].fillna(mode_temp)"
      ],
      "execution_count": null,
      "outputs": []
    },
    {
      "cell_type": "code",
      "metadata": {
        "colab": {
          "base_uri": "https://localhost:8080/"
        },
        "id": "4FQ7fiuSpiDq",
        "outputId": "d8bff19d-6dbb-4021-a00f-34b87010b859"
      },
      "source": [
        "df.isnull().sum()"
      ],
      "execution_count": null,
      "outputs": [
        {
          "output_type": "execute_result",
          "data": {
            "text/plain": [
              "ID                                        0\n",
              "GenderSelect                              0\n",
              "Country                                   0\n",
              "Age                                       0\n",
              "EmploymentStatus                          0\n",
              "CodeWriter                                0\n",
              "CurrentJobTitleSelect                     0\n",
              "TitleFit                                  0\n",
              "CurrentEmployerType                       0\n",
              "MLToolNextYearSelect                      0\n",
              "MLMethodNextYearSelect                    0\n",
              "LanguageRecommendationSelect              0\n",
              "LearningPlatformUsefulnessBlogs           0\n",
              "LearningPlatformUsefulnessKaggle          0\n",
              "LearningPlatformUsefulnessCourses         0\n",
              "LearningPlatformUsefulnessProjects        0\n",
              "LearningPlatformUsefulnessSO              0\n",
              "LearningPlatformUsefulnessTextbook        0\n",
              "LearningPlatformUsefulnessYouTube         0\n",
              "DataScienceIdentitySelect                 0\n",
              "FormalEducation                           0\n",
              "MajorSelect                               0\n",
              "Tenure                                    0\n",
              "PastJobTitlesSelect                       0\n",
              "MLSkillsSelect                            0\n",
              "MLTechniquesSelect                        0\n",
              "EmployerIndustry                          0\n",
              "EmployerSize                              0\n",
              "WorkProductionFrequency                   0\n",
              "WorkAlgorithmsSelect                      0\n",
              "WorkToolsFrequencyPython                  0\n",
              "WorkToolsFrequencyR                       0\n",
              "WorkToolsFrequencySQL                     0\n",
              "WorkMethodsFrequencyCross-Validation      0\n",
              "WorkMethodsFrequencyDataVisualization     0\n",
              "WorkMethodsFrequencyDecisionTrees         0\n",
              "WorkMethodsFrequencyLogisticRegression    0\n",
              "WorkMethodsFrequencyNeuralNetworks        0\n",
              "WorkMethodsFrequencyPCA                   0\n",
              "WorkMethodsFrequencyRandomForests         0\n",
              "WorkMethodsFrequencyTimeSeriesAnalysis    0\n",
              "WorkChallengeFrequencyPolitics            0\n",
              "WorkChallengeFrequencyUnusedResults       0\n",
              "WorkChallengeFrequencyDirtyData           0\n",
              "WorkChallengeFrequencyExplaining          0\n",
              "WorkChallengeFrequencyTalent              0\n",
              "WorkChallengeFrequencyClarity             0\n",
              "WorkChallengeFrequencyDataAccess          0\n",
              "CompensationScore                         0\n",
              "WorkDataVisualizations                    0\n",
              "WorkInternalVsExternalTools               0\n",
              "WorkMLTeamSeatSelect                      0\n",
              "RemoteWork                                0\n",
              "JobSatisfaction                           0\n",
              "dtype: int64"
            ]
          },
          "metadata": {
            "tags": []
          },
          "execution_count": 643
        }
      ]
    },
    {
      "cell_type": "markdown",
      "metadata": {
        "id": "rLB0XBrH5CVc"
      },
      "source": [
        "## 2.Feature Extraction"
      ]
    },
    {
      "cell_type": "code",
      "metadata": {
        "id": "xBwSKmpO0Jfe"
      },
      "source": [
        "import pandas as pd"
      ],
      "execution_count": null,
      "outputs": []
    },
    {
      "cell_type": "markdown",
      "metadata": {
        "id": "VVtuuKqXd0dv"
      },
      "source": [
        "### 2.A) Using Ordinal Variables"
      ]
    },
    {
      "cell_type": "code",
      "metadata": {
        "colab": {
          "base_uri": "https://localhost:8080/"
        },
        "id": "54YlVjb904MP",
        "outputId": "156b9e30-10f0-4970-b58f-ba0fdd271e2d"
      },
      "source": [
        "df['WorkToolsFrequencyPython'].unique()"
      ],
      "execution_count": null,
      "outputs": [
        {
          "output_type": "execute_result",
          "data": {
            "text/plain": [
              "array(['Often', 'Sometimes', 'Most of the time', 'Never', 'Rarely'],\n",
              "      dtype=object)"
            ]
          },
          "metadata": {
            "tags": []
          },
          "execution_count": 645
        }
      ]
    },
    {
      "cell_type": "code",
      "metadata": {
        "id": "sPRQS1EkfPJH"
      },
      "source": [
        "FrequencyOrdinals={\"Most of the time\":4,\"Often\":3,\"Sometimes\":2,\"Rarely\":1,\"Never\":0}"
      ],
      "execution_count": null,
      "outputs": []
    },
    {
      "cell_type": "markdown",
      "metadata": {
        "id": "pCX4KkPffJ2o"
      },
      "source": [
        "#### 1- Work Tools Frequencies"
      ]
    },
    {
      "cell_type": "code",
      "metadata": {
        "id": "M1Y8ZoOzfSk3"
      },
      "source": [
        "df[\"WorkToolsFrequencyPython\"]=df[\"WorkToolsFrequencyPython\"].replace(FrequencyOrdinals)\r\n",
        "df[\"WorkToolsFrequencyR\"]=df[\"WorkToolsFrequencyR\"].replace(FrequencyOrdinals)\r\n",
        "df[\"WorkToolsFrequencySQL\"]=df[\"WorkToolsFrequencySQL\"].replace(FrequencyOrdinals)\r\n",
        "\r\n",
        "df_test[\"WorkToolsFrequencyPython\"]=df_test[\"WorkToolsFrequencyPython\"].replace(FrequencyOrdinals)\r\n",
        "df_test[\"WorkToolsFrequencyR\"]=df_test[\"WorkToolsFrequencyR\"].replace(FrequencyOrdinals)\r\n",
        "df_test[\"WorkToolsFrequencySQL\"]=df_test[\"WorkToolsFrequencySQL\"].replace(FrequencyOrdinals)"
      ],
      "execution_count": null,
      "outputs": []
    },
    {
      "cell_type": "markdown",
      "metadata": {
        "id": "Un1z1vrF7LuI"
      },
      "source": [
        "#### 2- Work Methods Frequencies"
      ]
    },
    {
      "cell_type": "code",
      "metadata": {
        "id": "rq4n0i0W7ZyC"
      },
      "source": [
        "df[\"WorkMethodsFrequencyCross-Validation\"]=df[\"WorkMethodsFrequencyCross-Validation\"].replace(FrequencyOrdinals)\r\n",
        "df[\"WorkMethodsFrequencyDataVisualization\"]=df[\"WorkMethodsFrequencyDataVisualization\"].replace(FrequencyOrdinals)\r\n",
        "df[\"WorkMethodsFrequencyDecisionTrees\"]=df[\"WorkMethodsFrequencyDecisionTrees\"].replace(FrequencyOrdinals)\r\n",
        "df[\"WorkMethodsFrequencyLogisticRegression\"]=df[\"WorkMethodsFrequencyLogisticRegression\"].replace(FrequencyOrdinals)\r\n",
        "df[\"WorkMethodsFrequencyNeuralNetworks\"]=df[\"WorkMethodsFrequencyNeuralNetworks\"].replace(FrequencyOrdinals)\r\n",
        "df[\"WorkMethodsFrequencyPCA\"]=df[\"WorkMethodsFrequencyPCA\"].replace(FrequencyOrdinals)\r\n",
        "df[\"WorkMethodsFrequencyRandomForests\"]=df[\"WorkMethodsFrequencyRandomForests\"].replace(FrequencyOrdinals)\r\n",
        "df[\"WorkMethodsFrequencyTimeSeriesAnalysis\"]=df[\"WorkMethodsFrequencyTimeSeriesAnalysis\"].replace(FrequencyOrdinals)\r\n",
        "\r\n",
        "df_test[\"WorkMethodsFrequencyCross-Validation\"]=df_test[\"WorkMethodsFrequencyCross-Validation\"].replace(FrequencyOrdinals)\r\n",
        "df_test[\"WorkMethodsFrequencyDataVisualization\"]=df_test[\"WorkMethodsFrequencyDataVisualization\"].replace(FrequencyOrdinals)\r\n",
        "df_test[\"WorkMethodsFrequencyDecisionTrees\"]=df_test[\"WorkMethodsFrequencyDecisionTrees\"].replace(FrequencyOrdinals)\r\n",
        "df_test[\"WorkMethodsFrequencyLogisticRegression\"]=df_test[\"WorkMethodsFrequencyLogisticRegression\"].replace(FrequencyOrdinals)\r\n",
        "df_test[\"WorkMethodsFrequencyNeuralNetworks\"]=df_test[\"WorkMethodsFrequencyNeuralNetworks\"].replace(FrequencyOrdinals)\r\n",
        "df_test[\"WorkMethodsFrequencyPCA\"]=df_test[\"WorkMethodsFrequencyPCA\"].replace(FrequencyOrdinals)\r\n",
        "df_test[\"WorkMethodsFrequencyRandomForests\"]=df_test[\"WorkMethodsFrequencyRandomForests\"].replace(FrequencyOrdinals)\r\n",
        "df_test[\"WorkMethodsFrequencyTimeSeriesAnalysis\"]=df_test[\"WorkMethodsFrequencyTimeSeriesAnalysis\"].replace(FrequencyOrdinals)"
      ],
      "execution_count": null,
      "outputs": []
    },
    {
      "cell_type": "markdown",
      "metadata": {
        "id": "O46xGXMq6xFa"
      },
      "source": [
        "#### 3- Work Challenges Frequencies"
      ]
    },
    {
      "cell_type": "code",
      "metadata": {
        "id": "2cP-qBj_6qja"
      },
      "source": [
        "df[\"WorkChallengeFrequencyPolitics\"]=df[\"WorkChallengeFrequencyPolitics\"].replace(FrequencyOrdinals)\r\n",
        "df[\"WorkChallengeFrequencyUnusedResults\"]=df[\"WorkChallengeFrequencyUnusedResults\"].replace(FrequencyOrdinals)\r\n",
        "df[\"WorkChallengeFrequencyDirtyData\"]=df[\"WorkChallengeFrequencyDirtyData\"].replace(FrequencyOrdinals)\r\n",
        "df[\"WorkChallengeFrequencyExplaining\"]=df[\"WorkChallengeFrequencyExplaining\"].replace(FrequencyOrdinals)\r\n",
        "df[\"WorkChallengeFrequencyTalent\"]=df[\"WorkChallengeFrequencyTalent\"].replace(FrequencyOrdinals)\r\n",
        "df[\"WorkChallengeFrequencyClarity\"]=df[\"WorkChallengeFrequencyClarity\"].replace(FrequencyOrdinals)\r\n",
        "df[\"WorkChallengeFrequencyDataAccess\"]=df[\"WorkChallengeFrequencyDataAccess\"].replace(FrequencyOrdinals)\r\n",
        "\r\n",
        "df_test[\"WorkChallengeFrequencyPolitics\"]=df_test[\"WorkChallengeFrequencyPolitics\"].replace(FrequencyOrdinals)\r\n",
        "df_test[\"WorkChallengeFrequencyUnusedResults\"]=df_test[\"WorkChallengeFrequencyUnusedResults\"].replace(FrequencyOrdinals)\r\n",
        "df_test[\"WorkChallengeFrequencyDirtyData\"]=df_test[\"WorkChallengeFrequencyDirtyData\"].replace(FrequencyOrdinals)\r\n",
        "df_test[\"WorkChallengeFrequencyExplaining\"]=df_test[\"WorkChallengeFrequencyExplaining\"].replace(FrequencyOrdinals)\r\n",
        "df_test[\"WorkChallengeFrequencyTalent\"]=df_test[\"WorkChallengeFrequencyTalent\"].replace(FrequencyOrdinals)\r\n",
        "df_test[\"WorkChallengeFrequencyClarity\"]=df_test[\"WorkChallengeFrequencyClarity\"].replace(FrequencyOrdinals)\r\n",
        "df_test[\"WorkChallengeFrequencyDataAccess\"]=df_test[\"WorkChallengeFrequencyDataAccess\"].replace(FrequencyOrdinals)"
      ],
      "execution_count": null,
      "outputs": []
    },
    {
      "cell_type": "markdown",
      "metadata": {
        "id": "gP7z9oHqd5RB"
      },
      "source": [
        "#### 4- Learning Platforms Usefulnesses"
      ]
    },
    {
      "cell_type": "code",
      "metadata": {
        "colab": {
          "base_uri": "https://localhost:8080/"
        },
        "id": "kQqGWHy11N0S",
        "outputId": "71060340-4953-4138-e55a-cc0698bae637"
      },
      "source": [
        "df['LearningPlatformUsefulnessBlogs'].unique()"
      ],
      "execution_count": null,
      "outputs": [
        {
          "output_type": "execute_result",
          "data": {
            "text/plain": [
              "array(['Not Useful', 'Somewhat useful', 'Very useful'], dtype=object)"
            ]
          },
          "metadata": {
            "tags": []
          },
          "execution_count": 650
        }
      ]
    },
    {
      "cell_type": "code",
      "metadata": {
        "id": "IRHyDQaweB1G"
      },
      "source": [
        "UsefulnessOrdinals={'Very useful':3,'Somewhat useful':2,'Not Useful':1}\r\n",
        "\r\n",
        "df[\"LearningPlatformUsefulnessBlogs\"]=df[\"LearningPlatformUsefulnessBlogs\"].replace(UsefulnessOrdinals)\r\n",
        "df_test[\"LearningPlatformUsefulnessBlogs\"]=df_test[\"LearningPlatformUsefulnessBlogs\"].replace(UsefulnessOrdinals)\r\n",
        "\r\n",
        "df[\"LearningPlatformUsefulnessKaggle\"]=df[\"LearningPlatformUsefulnessKaggle\"].replace(UsefulnessOrdinals)\r\n",
        "df_test[\"LearningPlatformUsefulnessKaggle\"]=df_test[\"LearningPlatformUsefulnessKaggle\"].replace(UsefulnessOrdinals)\r\n",
        "\r\n",
        "df[\"LearningPlatformUsefulnessCourses\"]=df[\"LearningPlatformUsefulnessCourses\"].replace(UsefulnessOrdinals)\r\n",
        "df_test[\"LearningPlatformUsefulnessCourses\"]=df_test[\"LearningPlatformUsefulnessCourses\"].replace(UsefulnessOrdinals)\r\n",
        "\r\n",
        "df[\"LearningPlatformUsefulnessProjects\"]=df[\"LearningPlatformUsefulnessProjects\"].replace(UsefulnessOrdinals)\r\n",
        "df_test[\"LearningPlatformUsefulnessProjects\"]=df_test[\"LearningPlatformUsefulnessProjects\"].replace(UsefulnessOrdinals)\r\n",
        "\r\n",
        "df[\"LearningPlatformUsefulnessSO\"]=df[\"LearningPlatformUsefulnessSO\"].replace(UsefulnessOrdinals)\r\n",
        "df_test[\"LearningPlatformUsefulnessSO\"]=df_test[\"LearningPlatformUsefulnessSO\"].replace(UsefulnessOrdinals)\r\n",
        "\r\n",
        "df[\"LearningPlatformUsefulnessYouTube\"]=df[\"LearningPlatformUsefulnessYouTube\"].replace(UsefulnessOrdinals)\r\n",
        "df_test[\"LearningPlatformUsefulnessYouTube\"]=df_test[\"LearningPlatformUsefulnessYouTube\"].replace(UsefulnessOrdinals)\r\n",
        "\r\n",
        "df[\"LearningPlatformUsefulnessTextbook\"]=df[\"LearningPlatformUsefulnessTextbook\"].replace(UsefulnessOrdinals)\r\n",
        "df_test[\"LearningPlatformUsefulnessTextbook\"]=df_test[\"LearningPlatformUsefulnessTextbook\"].replace(UsefulnessOrdinals)"
      ],
      "execution_count": null,
      "outputs": []
    },
    {
      "cell_type": "markdown",
      "metadata": {
        "id": "xKC3F-bu7y1J"
      },
      "source": [
        "#### 5- Title Fit"
      ]
    },
    {
      "cell_type": "code",
      "metadata": {
        "colab": {
          "base_uri": "https://localhost:8080/"
        },
        "id": "iirHCm1M6sW6",
        "outputId": "71b4c9f1-f32b-4596-d565-cda9cdc94927"
      },
      "source": [
        "df['TitleFit'].unique()"
      ],
      "execution_count": null,
      "outputs": [
        {
          "output_type": "execute_result",
          "data": {
            "text/plain": [
              "array(['Fine', 'Poorly', 'Perfectly'], dtype=object)"
            ]
          },
          "metadata": {
            "tags": []
          },
          "execution_count": 652
        }
      ]
    },
    {
      "cell_type": "code",
      "metadata": {
        "id": "IpHkeHYQT_ll"
      },
      "source": [
        "TitleOrdinals={\"Perfectly\":3,\"Fine\":2,\"Poorly\":1}\r\n",
        "\r\n",
        "df['TitleFit'] = df['TitleFit'].replace(TitleOrdinals)\r\n",
        "df_test['TitleFit'] = df_test['TitleFit'].replace(TitleOrdinals)"
      ],
      "execution_count": null,
      "outputs": []
    },
    {
      "cell_type": "markdown",
      "metadata": {
        "id": "szvx_Rok-qoI"
      },
      "source": [
        "#### 6- Tenure Select"
      ]
    },
    {
      "cell_type": "code",
      "metadata": {
        "id": "HsJYF7guh-yS",
        "colab": {
          "base_uri": "https://localhost:8080/"
        },
        "outputId": "86f7830e-87ea-4505-e10c-8363fd323754"
      },
      "source": [
        "df[\"Tenure\"].unique()"
      ],
      "execution_count": null,
      "outputs": [
        {
          "output_type": "execute_result",
          "data": {
            "text/plain": [
              "array(['3 to 5 years', '1 to 2 years', '6 to 10 years',\n",
              "       'More than 10 years', 'Less than a year',\n",
              "       \"I don't write code to analyze data\"], dtype=object)"
            ]
          },
          "metadata": {
            "tags": []
          },
          "execution_count": 654
        }
      ]
    },
    {
      "cell_type": "code",
      "metadata": {
        "id": "NsQYWiOxiFbr"
      },
      "source": [
        "TenureOrdinals={'More than 10 years':6,'6 to 10 years':5,'3 to 5 years':4,'1 to 2 years':3,'Less than a year':2,\"I don't write code to analyze data\":1}\r\n",
        "\r\n",
        "df[\"Tenure\"]=df[\"Tenure\"].replace(TenureOrdinals)\r\n",
        "df_test[\"Tenure\"]=df_test[\"Tenure\"].replace(TenureOrdinals)"
      ],
      "execution_count": null,
      "outputs": []
    },
    {
      "cell_type": "markdown",
      "metadata": {
        "id": "B44qtHdQiQ9w"
      },
      "source": [
        "#### 7- Work ProductionFrequency"
      ]
    },
    {
      "cell_type": "code",
      "metadata": {
        "colab": {
          "base_uri": "https://localhost:8080/"
        },
        "id": "PAVcq1uQFWvy",
        "outputId": "8227a3ad-ddbf-4eb6-c93d-a476b60ee2a4"
      },
      "source": [
        "df['WorkProductionFrequency'].unique()"
      ],
      "execution_count": null,
      "outputs": [
        {
          "output_type": "execute_result",
          "data": {
            "text/plain": [
              "array(['Always', 'Rarely', 'Sometimes', 'Most of the time', 'Never',\n",
              "       \"Don't know\"], dtype=object)"
            ]
          },
          "metadata": {
            "tags": []
          },
          "execution_count": 656
        }
      ]
    },
    {
      "cell_type": "code",
      "metadata": {
        "id": "t-goULN7ktzx"
      },
      "source": [
        "WorkProductionFrequencyOrdinals={'Most of the time':6,'Always':5,'Sometimes':4,\"Don't know\":3,'Rarely':2,'Never':1}\r\n",
        "\r\n",
        "df[\"WorkProductionFrequency\"]=df[\"WorkProductionFrequency\"].replace(WorkProductionFrequencyOrdinals)\r\n",
        "df_test[\"WorkProductionFrequency\"]=df_test[\"WorkProductionFrequency\"].replace(WorkProductionFrequencyOrdinals)"
      ],
      "execution_count": null,
      "outputs": []
    },
    {
      "cell_type": "markdown",
      "metadata": {
        "id": "mIUe25wUhSMw"
      },
      "source": [
        "#### 8- Employer Size"
      ]
    },
    {
      "cell_type": "code",
      "metadata": {
        "id": "JirD2MqU9VA1",
        "colab": {
          "base_uri": "https://localhost:8080/"
        },
        "outputId": "59744e89-a45d-4d4d-f650-1304c4157b5f"
      },
      "source": [
        "df['EmployerSize'].unique()"
      ],
      "execution_count": null,
      "outputs": [
        {
          "output_type": "execute_result",
          "data": {
            "text/plain": [
              "array(['10,000 or more employees', '1,000 to 4,999 employees',\n",
              "       '5,000 to 9,999 employees', 'Fewer than 10 employees',\n",
              "       '10 to 19 employees', '500 to 999 employees', \"I don't know\",\n",
              "       '20 to 99 employees', '100 to 499 employees',\n",
              "       'I prefer not to answer'], dtype=object)"
            ]
          },
          "metadata": {
            "tags": []
          },
          "execution_count": 658
        }
      ]
    },
    {
      "cell_type": "code",
      "metadata": {
        "id": "uy0Auv9k9aSz"
      },
      "source": [
        "EmployerSizeOrdinals={\"I don't know\":0,'Fewer than 10 employees':11,'10,000 or more employees':10,'20 to 99 employees':9,'1,000 to 4,999 employees':6,'500 to 999 employees':7,'5,000 to 9,999 employees':6,'100 to 499 employees':5,'I prefer not to answer':1,'10 to 19 employees':3}\r\n",
        "\r\n",
        "df[\"EmployerSize\"]=df[\"EmployerSize\"].replace(EmployerSizeOrdinals)\r\n",
        "df_test[\"EmployerSize\"]=df_test[\"EmployerSize\"].replace(EmployerSizeOrdinals)"
      ],
      "execution_count": null,
      "outputs": []
    },
    {
      "cell_type": "markdown",
      "metadata": {
        "id": "_m2asFiLFoNp"
      },
      "source": [
        "#### 9- Work Data Visualization"
      ]
    },
    {
      "cell_type": "code",
      "metadata": {
        "id": "mD73hTs_lvAR",
        "colab": {
          "base_uri": "https://localhost:8080/"
        },
        "outputId": "dc23ca20-b4c5-44fa-e614-29429ab794b6"
      },
      "source": [
        "df[\"WorkDataVisualizations\"].unique()"
      ],
      "execution_count": null,
      "outputs": [
        {
          "output_type": "execute_result",
          "data": {
            "text/plain": [
              "array(['51-75% of projects', '100% of projects', '10-25% of projects',\n",
              "       '76-99% of projects', 'Less than 10% of projects',\n",
              "       '26-50% of projects', 'None'], dtype=object)"
            ]
          },
          "metadata": {
            "tags": []
          },
          "execution_count": 660
        }
      ]
    },
    {
      "cell_type": "code",
      "metadata": {
        "id": "27dV3i0fl9cw"
      },
      "source": [
        "WorkDataVisualizationOrdinals={'100% of projects':7,'76-99% of projects':5,'51-75% of projects':6,'26-50% of projects':4,'10-25% of projects':3,'Less than 10% of projects':2,'None':1}\r\n",
        "\r\n",
        "df[\"WorkDataVisualizations\"]=df[\"WorkDataVisualizations\"].replace(WorkDataVisualizationOrdinals)\r\n",
        "df_test[\"WorkDataVisualizations\"]=df_test[\"WorkDataVisualizations\"].replace(WorkDataVisualizationOrdinals)"
      ],
      "execution_count": null,
      "outputs": []
    },
    {
      "cell_type": "markdown",
      "metadata": {
        "id": "YWcD6M4MmP0f"
      },
      "source": [
        "#### 10- Remote Work"
      ]
    },
    {
      "cell_type": "code",
      "metadata": {
        "id": "jrXsqqOYnOKT",
        "colab": {
          "base_uri": "https://localhost:8080/"
        },
        "outputId": "b97153ab-8f21-4f63-f266-69fc74e3ec38"
      },
      "source": [
        "df[\"RemoteWork\"].unique()"
      ],
      "execution_count": null,
      "outputs": [
        {
          "output_type": "execute_result",
          "data": {
            "text/plain": [
              "array(['Sometimes', 'Rarely', 'Most of the time', 'Never', 'Always',\n",
              "       \"Don't know\"], dtype=object)"
            ]
          },
          "metadata": {
            "tags": []
          },
          "execution_count": 662
        }
      ]
    },
    {
      "cell_type": "code",
      "metadata": {
        "id": "J7pIBvQfneoY"
      },
      "source": [
        "RemoteWorkOrdinals={\"Always\":6,\"Most of the time\":5,\"Don't know\":3,\"Sometimes\":4,\"Rarely\":2,\"Never\":1}\r\n",
        "\r\n",
        "df[\"RemoteWork\"]=df[\"RemoteWork\"].replace(RemoteWorkOrdinals)\r\n",
        "df_test[\"RemoteWork\"]=df_test[\"RemoteWork\"].replace(RemoteWorkOrdinals)"
      ],
      "execution_count": null,
      "outputs": []
    },
    {
      "cell_type": "markdown",
      "metadata": {
        "id": "RPtW1pgq10g5"
      },
      "source": [
        "#### 11- Data Science Identity Select"
      ]
    },
    {
      "cell_type": "code",
      "metadata": {
        "id": "DVeVNx9P12KM",
        "colab": {
          "base_uri": "https://localhost:8080/"
        },
        "outputId": "b9c6e040-6d61-4eaf-ea13-a97de39b2078"
      },
      "source": [
        "df[\"DataScienceIdentitySelect\"].unique()"
      ],
      "execution_count": null,
      "outputs": [
        {
          "output_type": "execute_result",
          "data": {
            "text/plain": [
              "array(['Sort of (Explain more)', 'No', 'Yes'], dtype=object)"
            ]
          },
          "metadata": {
            "tags": []
          },
          "execution_count": 664
        }
      ]
    },
    {
      "cell_type": "code",
      "metadata": {
        "id": "AQvPL_Y916Oz"
      },
      "source": [
        "DataScienceIdentitySelectOrdinals={'Sort of (Explain more)':2,'No':1,'Yes':3 }\r\n",
        "\r\n",
        "df[\"DataScienceIdentitySelect\"]=df[\"DataScienceIdentitySelect\"].replace(DataScienceIdentitySelectOrdinals)\r\n",
        "df_test[\"DataScienceIdentitySelect\"]=df_test[\"DataScienceIdentitySelect\"].replace(DataScienceIdentitySelectOrdinals)"
      ],
      "execution_count": null,
      "outputs": []
    },
    {
      "cell_type": "markdown",
      "metadata": {
        "id": "Mk08Ckq5tGGq"
      },
      "source": [
        "#### 12- Employment Status"
      ]
    },
    {
      "cell_type": "code",
      "metadata": {
        "id": "P39MUPwKtI8R",
        "colab": {
          "base_uri": "https://localhost:8080/"
        },
        "outputId": "6be008cd-916a-4ed8-dccc-36887ebd1ffb"
      },
      "source": [
        "df[\"EmploymentStatus\"].unique()"
      ],
      "execution_count": null,
      "outputs": [
        {
          "output_type": "execute_result",
          "data": {
            "text/plain": [
              "array(['Independent contractor, freelancer, or self-employed',\n",
              "       'Employed full-time', 'Employed part-time'], dtype=object)"
            ]
          },
          "metadata": {
            "tags": []
          },
          "execution_count": 666
        }
      ]
    },
    {
      "cell_type": "code",
      "metadata": {
        "id": "e9y0e7XathFo"
      },
      "source": [
        "EmploymentStatus={'Independent contractor, freelancer, or self-employed':3,'Employed part-time':2,'Employed full-time':1}\r\n",
        "\r\n",
        "df[\"EmploymentStatus\"]=df[\"EmploymentStatus\"].replace(EmploymentStatus)\r\n",
        "df_test[\"EmploymentStatus\"]=df_test[\"EmploymentStatus\"].replace(EmploymentStatus)"
      ],
      "execution_count": null,
      "outputs": []
    },
    {
      "cell_type": "code",
      "metadata": {
        "id": "DZxdGTUAwLN9"
      },
      "source": [
        "from sklearn import preprocessing\r\n",
        "min_max_scaler = preprocessing.MinMaxScaler()\r\n",
        "\r\n",
        "x = df[['EmploymentStatus']].values.astype(float)\r\n",
        "x = min_max_scaler.fit_transform(x)\r\n",
        "df[\"EmploymentStatus\"] = x *5\r\n",
        "\r\n",
        "x_test=df_test[['EmploymentStatus']].values.astype(float)\r\n",
        "x_test=min_max_scaler.fit_transform(x_test)\r\n",
        "df_test[\"EmploymentStatus\"]=x_test *5"
      ],
      "execution_count": null,
      "outputs": []
    },
    {
      "cell_type": "markdown",
      "metadata": {
        "id": "5Ci7AllgzuJr"
      },
      "source": [
        "#### 13- Country"
      ]
    },
    {
      "cell_type": "code",
      "metadata": {
        "id": "LxNkUwdaS1jp",
        "colab": {
          "base_uri": "https://localhost:8080/"
        },
        "outputId": "2c24317e-050f-4ae6-d7ac-b0a7e017d9a3"
      },
      "source": [
        "pip install pycountry-convert"
      ],
      "execution_count": null,
      "outputs": [
        {
          "output_type": "stream",
          "text": [
            "Requirement already satisfied: pycountry-convert in /usr/local/lib/python3.7/dist-packages (0.7.2)\n",
            "Requirement already satisfied: pytest-cov>=2.5.1 in /usr/local/lib/python3.7/dist-packages (from pycountry-convert) (2.11.1)\n",
            "Requirement already satisfied: pycountry>=16.11.27.1 in /usr/local/lib/python3.7/dist-packages (from pycountry-convert) (20.7.3)\n",
            "Requirement already satisfied: pytest-mock>=1.6.3 in /usr/local/lib/python3.7/dist-packages (from pycountry-convert) (3.5.1)\n",
            "Requirement already satisfied: pytest>=3.4.0 in /usr/local/lib/python3.7/dist-packages (from pycountry-convert) (3.6.4)\n",
            "Requirement already satisfied: pprintpp>=0.3.0 in /usr/local/lib/python3.7/dist-packages (from pycountry-convert) (0.4.0)\n",
            "Requirement already satisfied: repoze.lru>=0.7 in /usr/local/lib/python3.7/dist-packages (from pycountry-convert) (0.7)\n",
            "Requirement already satisfied: wheel>=0.30.0 in /usr/local/lib/python3.7/dist-packages (from pycountry-convert) (0.36.2)\n",
            "Requirement already satisfied: coverage>=5.2.1 in /usr/local/lib/python3.7/dist-packages (from pytest-cov>=2.5.1->pycountry-convert) (5.4)\n",
            "Requirement already satisfied: setuptools in /usr/local/lib/python3.7/dist-packages (from pytest>=3.4.0->pycountry-convert) (53.0.0)\n",
            "Requirement already satisfied: pluggy<0.8,>=0.5 in /usr/local/lib/python3.7/dist-packages (from pytest>=3.4.0->pycountry-convert) (0.7.1)\n",
            "Requirement already satisfied: py>=1.5.0 in /usr/local/lib/python3.7/dist-packages (from pytest>=3.4.0->pycountry-convert) (1.10.0)\n",
            "Requirement already satisfied: atomicwrites>=1.0 in /usr/local/lib/python3.7/dist-packages (from pytest>=3.4.0->pycountry-convert) (1.4.0)\n",
            "Requirement already satisfied: more-itertools>=4.0.0 in /usr/local/lib/python3.7/dist-packages (from pytest>=3.4.0->pycountry-convert) (8.7.0)\n",
            "Requirement already satisfied: attrs>=17.4.0 in /usr/local/lib/python3.7/dist-packages (from pytest>=3.4.0->pycountry-convert) (20.3.0)\n",
            "Requirement already satisfied: six>=1.10.0 in /usr/local/lib/python3.7/dist-packages (from pytest>=3.4.0->pycountry-convert) (1.15.0)\n"
          ],
          "name": "stdout"
        }
      ]
    },
    {
      "cell_type": "code",
      "metadata": {
        "id": "yyC35H1-zwKn",
        "colab": {
          "base_uri": "https://localhost:8080/"
        },
        "outputId": "4d8ea5e1-981d-40b5-b91b-66995120cb95"
      },
      "source": [
        "df['Country'].unique()"
      ],
      "execution_count": null,
      "outputs": [
        {
          "output_type": "execute_result",
          "data": {
            "text/plain": [
              "array(['Pakistan', 'Mexico', 'United States', 'France', 'Other',\n",
              "       'Romania', 'Singapore', 'Argentina', 'Australia',\n",
              "       \"People 's Republic of China\", 'Germany', 'India', 'Russia',\n",
              "       'Taiwan', 'Switzerland', 'United Kingdom', 'Finland', 'Canada',\n",
              "       'Indonesia', 'South Korea', 'Colombia', 'Spain', 'South Africa',\n",
              "       'Italy', 'Brazil', 'Czech Republic', 'Philippines', 'Malaysia',\n",
              "       'Vietnam', 'Egypt', 'Israel', 'Poland', 'Nigeria', 'Chile',\n",
              "       'Belgium', 'Netherlands', 'Ireland', 'Hong Kong', 'Japan',\n",
              "       'Denmark', 'New Zealand', 'Hungary', 'Iran', 'Ukraine', 'Greece',\n",
              "       'Sweden', 'Norway', 'Portugal', 'Kenya', 'Turkey',\n",
              "       'Republic of China', 'Belarus'], dtype=object)"
            ]
          },
          "metadata": {
            "tags": []
          },
          "execution_count": 670
        }
      ]
    },
    {
      "cell_type": "code",
      "metadata": {
        "id": "GxEgXdrwFuOA"
      },
      "source": [
        "from sklearn import preprocessing\r\n",
        "min_max_scaler = preprocessing.MinMaxScaler()\r\n",
        "\r\n",
        "# Ordered according to development level\r\n",
        "\r\n",
        "ct_dict={\"Vietnam\":1,\"Kenya\":2,\"Malaysia\":3,\"People 's Republic of China\":4,\"Japan\":5,\"Hong Kong\":6,\"Nigeria\":7,\"Pakistan\":8,\"Taiwan\":9,\"India\":10,\"South Korea\":11,\r\n",
        "             \"Philippines\":11,\"Hungary\":11.5,\"Turkey\":12,\"Ireland\":13,\"Egypt\":14,\"Singapore\":15,\"Republic of China\":16,\"New Zealand\":17,\"Other\":18,\"Belgium\":19,\"Norway\":20,\r\n",
        "             \"Finland\":21,\"Poland\":21.5,\"Iran\":22,\"United Kingdom\":23,\"Italy\":24,\"Spain\":25,\"Portugal\":26,\"South Africa\":27,\"Netherlands\":28,\"Russia\":29,\"Brazil\":30,\r\n",
        "             \"Germany\":31,\"France\":33,\"United States\":34,\"Australia\":35,\"Argentina\":36,\"Romania\":37,\"Denmark\":38,\"Ukraine\":39,\"Belarus\":40,\"Indonesia\":41,\r\n",
        "             \"Canada\":42,\"Greece\":43,\"Chile\":44,\"Czech Republic\":45,\"Switzerland\":46,\"Colombia\":47,\"Mexico\":48,\"Israel\":49,\"Sweden\":50}\r\n",
        "\r\n",
        "df['CountryPoint'] = df['Country'].replace(ct_dict)\r\n",
        "x = df[['CountryPoint']].values.astype(float)\r\n",
        "x = min_max_scaler.fit_transform(x)\r\n",
        "df[\"CountryPoint\"] = x * 5\r\n",
        "\r\n",
        "df_test['CountryPoint'] = df_test['Country'].replace(ct_dict)\r\n",
        "x_test=df_test[['CountryPoint']].values.astype(float)\r\n",
        "x_test=min_max_scaler.fit_transform(x_test)\r\n",
        "df_test[\"CountryPoint\"]=x_test *5"
      ],
      "execution_count": null,
      "outputs": []
    },
    {
      "cell_type": "code",
      "metadata": {
        "id": "kcDygE0vTlby"
      },
      "source": [
        "import pycountry_convert as pc\r\n",
        "\r\n",
        "def country_to_continent(country_name):\r\n",
        "    country_alpha2 = pc.country_name_to_country_alpha2(country_name)\r\n",
        "    country_continent_code = pc.country_alpha2_to_continent_code(country_alpha2)\r\n",
        "    country_continent_name = pc.convert_continent_code_to_continent_name(country_continent_code)\r\n",
        "    return country_continent_name"
      ],
      "execution_count": null,
      "outputs": []
    },
    {
      "cell_type": "code",
      "metadata": {
        "id": "Fvneb_0KT8UA"
      },
      "source": [
        "country=df.groupby(by=[\"Country\"]).sum()\r\n",
        "ct = []\r\n",
        "for row in country.index: \r\n",
        "    ct.append(row)"
      ],
      "execution_count": null,
      "outputs": []
    },
    {
      "cell_type": "code",
      "metadata": {
        "id": "CjQ7oyuda7q-"
      },
      "source": [
        "for i in range(len(ct)):\r\n",
        "  country_name = ct[i]\r\n",
        "  if country_name == \"People 's Republic of China\" or country_name == \"Republic of China\":\r\n",
        "    countinent_name = \"Asia\"\r\n",
        "    ct_dict[country_name] = countinent_name\r\n",
        "  elif country_name != \"Other\":\r\n",
        "    countinent_name = country_to_continent(country_name)\r\n",
        "    ct_dict[country_name] = countinent_name"
      ],
      "execution_count": null,
      "outputs": []
    },
    {
      "cell_type": "code",
      "metadata": {
        "id": "fxZPN_GRrU0g"
      },
      "source": [
        "df = df.replace({\"Country\": ct_dict})"
      ],
      "execution_count": null,
      "outputs": []
    },
    {
      "cell_type": "markdown",
      "metadata": {
        "id": "hRzdS-t0tHmo"
      },
      "source": [
        "### 2.B) Using Categorical  Variables\r\n"
      ]
    },
    {
      "cell_type": "markdown",
      "metadata": {
        "id": "W5rtoDv3uD4M"
      },
      "source": [
        "#### 1- Gender\r\n"
      ]
    },
    {
      "cell_type": "code",
      "metadata": {
        "id": "_8yON2TBuxeI"
      },
      "source": [
        "dummies_gender = pd.get_dummies(df['GenderSelect'],prefix='GenderSelect')\r\n",
        "df = pd.merge(df,dummies_gender,left_index=True,right_index=True)\r\n",
        "df = df.drop(columns='GenderSelect')"
      ],
      "execution_count": null,
      "outputs": []
    },
    {
      "cell_type": "code",
      "metadata": {
        "id": "2Oj6K3ERTCxl"
      },
      "source": [
        "dummies_GenderSelect = pd.get_dummies(df_test['GenderSelect'],prefix='GenderSelect')\r\n",
        "df_test = pd.merge(df_test,dummies_GenderSelect,left_index=True,right_index=True)\r\n",
        "df_test = df_test.drop(columns='GenderSelect')"
      ],
      "execution_count": null,
      "outputs": []
    },
    {
      "cell_type": "markdown",
      "metadata": {
        "id": "DzgGIar16Lu_"
      },
      "source": [
        "#### 2- Current Job Title Select"
      ]
    },
    {
      "cell_type": "code",
      "metadata": {
        "id": "u2kWNA3jYgz2"
      },
      "source": [
        "dummies_CurrentJobTitleSelect = pd.get_dummies(df['CurrentJobTitleSelect'],prefix='CurrentJobTitleSelect')\r\n",
        "df = pd.merge(df,dummies_CurrentJobTitleSelect,left_index=True,right_index=True)\r\n",
        "df = df.drop(columns='CurrentJobTitleSelect')"
      ],
      "execution_count": null,
      "outputs": []
    },
    {
      "cell_type": "code",
      "metadata": {
        "id": "FIShVevdT5fb"
      },
      "source": [
        "dummies_CurrentJobTitleSelect = pd.get_dummies(df_test['CurrentJobTitleSelect'],prefix='CurrentJobTitleSelect')\r\n",
        "df_test = pd.merge(df_test,dummies_CurrentJobTitleSelect,left_index=True,right_index=True)\r\n",
        "df_test = df_test.drop(columns='CurrentJobTitleSelect')"
      ],
      "execution_count": null,
      "outputs": []
    },
    {
      "cell_type": "markdown",
      "metadata": {
        "id": "lr9eUMA0aPzl"
      },
      "source": [
        "#### 3- Major Select"
      ]
    },
    {
      "cell_type": "code",
      "metadata": {
        "id": "BK69nkMwaSsG"
      },
      "source": [
        "dummies_MajorSelect = pd.get_dummies(df['MajorSelect'],prefix='MajorSelect')\r\n",
        "df = pd.merge(df,dummies_MajorSelect,left_index=True,right_index=True)\r\n",
        "df = df.drop(columns='MajorSelect')"
      ],
      "execution_count": null,
      "outputs": []
    },
    {
      "cell_type": "code",
      "metadata": {
        "id": "UeH39DvZUYtq"
      },
      "source": [
        "dummies_MajorSelect = pd.get_dummies(df_test['MajorSelect'],prefix='MajorSelect')\r\n",
        "df_test = pd.merge(df_test,dummies_MajorSelect,left_index=True,right_index=True)\r\n",
        "df_test = df_test.drop(columns='MajorSelect')"
      ],
      "execution_count": null,
      "outputs": []
    },
    {
      "cell_type": "markdown",
      "metadata": {
        "id": "TvN4aAM8g8ZI"
      },
      "source": [
        "#### 4- Employer Industry"
      ]
    },
    {
      "cell_type": "code",
      "metadata": {
        "id": "6KWbdLyyhBJG"
      },
      "source": [
        "dummies_EmployerIndustry = pd.get_dummies(df['EmployerIndustry'],prefix='EmployerIndustry')\r\n",
        "df = pd.merge(df,dummies_EmployerIndustry,left_index=True,right_index=True)\r\n",
        "df = df.drop(columns='EmployerIndustry')"
      ],
      "execution_count": null,
      "outputs": []
    },
    {
      "cell_type": "code",
      "metadata": {
        "id": "B9f1Cw9wUrHD"
      },
      "source": [
        "dummies_EmployerIndustry = pd.get_dummies(df_test['EmployerIndustry'],prefix='EmployerIndustry')\r\n",
        "df_test = pd.merge(df_test,dummies_EmployerIndustry,left_index=True,right_index=True)\r\n",
        "df_test = df_test.drop(columns='EmployerIndustry')"
      ],
      "execution_count": null,
      "outputs": []
    },
    {
      "cell_type": "markdown",
      "metadata": {
        "id": "FzYc4W4KuvER"
      },
      "source": [
        "#### 5- Language Recommendation Select"
      ]
    },
    {
      "cell_type": "code",
      "metadata": {
        "id": "n9_zUbUz1VPH"
      },
      "source": [
        "dummies_RemoteWork = pd.get_dummies(df['LanguageRecommendationSelect'],prefix='LanguageRecommendationSelect')\r\n",
        "df = pd.merge(df,dummies_RemoteWork,left_index=True,right_index=True)\r\n",
        "df = df.drop(columns='LanguageRecommendationSelect')\r\n",
        "\r\n",
        "dummies_RemoteWork = pd.get_dummies(df_test['LanguageRecommendationSelect'],prefix='LanguageRecommendationSelect')\r\n",
        "df_test = pd.merge(df_test,dummies_RemoteWork,left_index=True,right_index=True)\r\n",
        "df_test = df_test.drop(columns='LanguageRecommendationSelect')"
      ],
      "execution_count": null,
      "outputs": []
    },
    {
      "cell_type": "markdown",
      "metadata": {
        "id": "eN1xlW6-_VSz"
      },
      "source": [
        "#### 6- Formal Education"
      ]
    },
    {
      "cell_type": "code",
      "metadata": {
        "id": "2NaZr9i__XDH"
      },
      "source": [
        "dummies_FormalEducation = pd.get_dummies(df['FormalEducation'],prefix='FormalEducation')\r\n",
        "df = pd.merge(df,dummies_FormalEducation,left_index=True,right_index=True)\r\n",
        "df = df.drop(columns='FormalEducation')\r\n",
        "\r\n",
        "dummies_FormalEducation = pd.get_dummies(df_test['FormalEducation'],prefix='FormalEducation')\r\n",
        "df_test = pd.merge(df_test,dummies_FormalEducation,left_index=True,right_index=True)\r\n",
        "df_test = df_test.drop(columns='FormalEducation')"
      ],
      "execution_count": null,
      "outputs": []
    },
    {
      "cell_type": "markdown",
      "metadata": {
        "id": "S4N_K_-sCa4O"
      },
      "source": [
        "### 2.C) Using Proprietary Splitter"
      ]
    },
    {
      "cell_type": "markdown",
      "metadata": {
        "id": "3z1tpQmZYXoT"
      },
      "source": [
        "#### 1- Work Algorithms Select"
      ]
    },
    {
      "cell_type": "code",
      "metadata": {
        "id": "n3BoaMNpYDe1"
      },
      "source": [
        "import numpy as np\r\n",
        "titleselectholder=[]\r\n",
        "def splitter(row):\r\n",
        "  PastJobTitlesSelect=row[\"WorkAlgorithmsSelect\"]\r\n",
        "  if (PastJobTitlesSelect is not None): \r\n",
        "    x = PastJobTitlesSelect.split(\",\")\r\n",
        "    for i in x:\r\n",
        "      titleselectholder.append(i)\r\n",
        "df.apply(splitter,axis=1)\r\n",
        "print(titleselectholder)\r\n",
        "titleselectholder=np.array(titleselectholder)\r\n",
        "models = {car for car in titleselectholder}\r\n",
        "print(len(models))\r\n",
        "for i in models:\r\n",
        "  df[i] = 0\r\n",
        "  df_test[i]=0"
      ],
      "execution_count": null,
      "outputs": []
    },
    {
      "cell_type": "code",
      "metadata": {
        "id": "TiNMGCvtYnSZ"
      },
      "source": [
        "for i in range(len(df)):\r\n",
        "  PastJobTitlesSelect=df.at[i,\"WorkAlgorithmsSelect\"]\r\n",
        "  if (PastJobTitlesSelect is not None): \r\n",
        "    x = PastJobTitlesSelect.split(\",\")\r\n",
        "    for t in x:\r\n",
        "      df.at[i,t]=1\r\n",
        "\r\n",
        "for i in range(len(df_test)):\r\n",
        "  PastJobTitlesSelect=df_test.at[i,\"WorkAlgorithmsSelect\"]\r\n",
        "  if (PastJobTitlesSelect is not None): \r\n",
        "    x = PastJobTitlesSelect.split(\",\")\r\n",
        "    for t in x:\r\n",
        "      df_test.at[i,t]=1"
      ],
      "execution_count": null,
      "outputs": []
    },
    {
      "cell_type": "markdown",
      "metadata": {
        "id": "mpxN6zrTW47p"
      },
      "source": [
        "#### 2- Current Employer Type"
      ]
    },
    {
      "cell_type": "code",
      "metadata": {
        "id": "D-pF-5MGW6Nk"
      },
      "source": [
        "import numpy as np\r\n",
        "titleselectholder=[]\r\n",
        "def splitter(row):\r\n",
        "  PastJobTitlesSelect=row[\"CurrentEmployerType\"]\r\n",
        "  if (PastJobTitlesSelect is not None): \r\n",
        "    x = PastJobTitlesSelect.split(\",\")\r\n",
        "    for i in x:\r\n",
        "      titleselectholder.append(i)\r\n",
        "df.apply(splitter,axis=1)\r\n",
        "print(titleselectholder)\r\n",
        "titleselectholder=np.array(titleselectholder)\r\n",
        "models = {car for car in titleselectholder}\r\n",
        "print(len(models))\r\n",
        "for i in models:\r\n",
        "  df[i] = 0\r\n",
        "  df_test[i]=0"
      ],
      "execution_count": null,
      "outputs": []
    },
    {
      "cell_type": "code",
      "metadata": {
        "id": "FmmVZjgLXLE9"
      },
      "source": [
        "for i in range(len(df)):\r\n",
        "  PastJobTitlesSelect=df.at[i,\"CurrentEmployerType\"]\r\n",
        "  if (PastJobTitlesSelect is not None): \r\n",
        "    x = PastJobTitlesSelect.split(\",\")\r\n",
        "    for t in x:\r\n",
        "      df.at[i,t]=1\r\n",
        "\r\n",
        "for i in range(len(df_test)):\r\n",
        "  PastJobTitlesSelect=df_test.at[i,\"CurrentEmployerType\"]\r\n",
        "  if (PastJobTitlesSelect is not None): \r\n",
        "    x = PastJobTitlesSelect.split(\",\")\r\n",
        "    for t in x:\r\n",
        "      df_test.at[i,t]=1"
      ],
      "execution_count": null,
      "outputs": []
    },
    {
      "cell_type": "markdown",
      "metadata": {
        "id": "pm71sBGsMRW4"
      },
      "source": [
        "## 3.Removal of Redundant Features"
      ]
    },
    {
      "cell_type": "code",
      "metadata": {
        "id": "3soQM58Mam-N"
      },
      "source": [
        "df=df.drop(columns=[\"Country\",\"WorkInternalVsExternalTools\",'LanguageRecommendationSelect_F#',\"MLToolNextYearSelect\",\"MLMethodNextYearSelect\",\"MLSkillsSelect\",\"PastJobTitlesSelect\",\"CurrentEmployerType\",\"ID\",\"CodeWriter\",\"MLTechniquesSelect\",\"WorkAlgorithmsSelect\",\"WorkMLTeamSeatSelect\"])\r\n",
        "df_test=df_test.drop(columns=[\"Country\",\"WorkInternalVsExternalTools\",\"MLToolNextYearSelect\",\"MLMethodNextYearSelect\",\"MLSkillsSelect\",\"PastJobTitlesSelect\",\"CurrentEmployerType\",\"ID\",\"CodeWriter\",\"MLTechniquesSelect\",\"WorkAlgorithmsSelect\",\"WorkMLTeamSeatSelect\"])"
      ],
      "execution_count": null,
      "outputs": []
    },
    {
      "cell_type": "code",
      "metadata": {
        "colab": {
          "base_uri": "https://localhost:8080/",
          "height": 527
        },
        "id": "Upid27R49h7S",
        "outputId": "9c9049c5-adc5-4f07-df6c-c47974e729c0"
      },
      "source": [
        "df.head(10)"
      ],
      "execution_count": null,
      "outputs": [
        {
          "output_type": "execute_result",
          "data": {
            "text/html": [
              "<div>\n",
              "<style scoped>\n",
              "    .dataframe tbody tr th:only-of-type {\n",
              "        vertical-align: middle;\n",
              "    }\n",
              "\n",
              "    .dataframe tbody tr th {\n",
              "        vertical-align: top;\n",
              "    }\n",
              "\n",
              "    .dataframe thead th {\n",
              "        text-align: right;\n",
              "    }\n",
              "</style>\n",
              "<table border=\"1\" class=\"dataframe\">\n",
              "  <thead>\n",
              "    <tr style=\"text-align: right;\">\n",
              "      <th></th>\n",
              "      <th>Age</th>\n",
              "      <th>EmploymentStatus</th>\n",
              "      <th>TitleFit</th>\n",
              "      <th>LearningPlatformUsefulnessBlogs</th>\n",
              "      <th>LearningPlatformUsefulnessKaggle</th>\n",
              "      <th>LearningPlatformUsefulnessCourses</th>\n",
              "      <th>LearningPlatformUsefulnessProjects</th>\n",
              "      <th>LearningPlatformUsefulnessSO</th>\n",
              "      <th>LearningPlatformUsefulnessTextbook</th>\n",
              "      <th>LearningPlatformUsefulnessYouTube</th>\n",
              "      <th>DataScienceIdentitySelect</th>\n",
              "      <th>Tenure</th>\n",
              "      <th>EmployerSize</th>\n",
              "      <th>WorkProductionFrequency</th>\n",
              "      <th>WorkToolsFrequencyPython</th>\n",
              "      <th>WorkToolsFrequencyR</th>\n",
              "      <th>WorkToolsFrequencySQL</th>\n",
              "      <th>WorkMethodsFrequencyCross-Validation</th>\n",
              "      <th>WorkMethodsFrequencyDataVisualization</th>\n",
              "      <th>WorkMethodsFrequencyDecisionTrees</th>\n",
              "      <th>WorkMethodsFrequencyLogisticRegression</th>\n",
              "      <th>WorkMethodsFrequencyNeuralNetworks</th>\n",
              "      <th>WorkMethodsFrequencyPCA</th>\n",
              "      <th>WorkMethodsFrequencyRandomForests</th>\n",
              "      <th>WorkMethodsFrequencyTimeSeriesAnalysis</th>\n",
              "      <th>WorkChallengeFrequencyPolitics</th>\n",
              "      <th>WorkChallengeFrequencyUnusedResults</th>\n",
              "      <th>WorkChallengeFrequencyDirtyData</th>\n",
              "      <th>WorkChallengeFrequencyExplaining</th>\n",
              "      <th>WorkChallengeFrequencyTalent</th>\n",
              "      <th>WorkChallengeFrequencyClarity</th>\n",
              "      <th>WorkChallengeFrequencyDataAccess</th>\n",
              "      <th>CompensationScore</th>\n",
              "      <th>WorkDataVisualizations</th>\n",
              "      <th>RemoteWork</th>\n",
              "      <th>JobSatisfaction</th>\n",
              "      <th>CountryPoint</th>\n",
              "      <th>GenderSelect_A different identity</th>\n",
              "      <th>GenderSelect_Female</th>\n",
              "      <th>GenderSelect_Male</th>\n",
              "      <th>...</th>\n",
              "      <th>LanguageRecommendationSelect_Java</th>\n",
              "      <th>LanguageRecommendationSelect_Julia</th>\n",
              "      <th>LanguageRecommendationSelect_Matlab</th>\n",
              "      <th>LanguageRecommendationSelect_Other</th>\n",
              "      <th>LanguageRecommendationSelect_Python</th>\n",
              "      <th>LanguageRecommendationSelect_R</th>\n",
              "      <th>LanguageRecommendationSelect_SAS</th>\n",
              "      <th>LanguageRecommendationSelect_SQL</th>\n",
              "      <th>LanguageRecommendationSelect_Scala</th>\n",
              "      <th>LanguageRecommendationSelect_Stata</th>\n",
              "      <th>FormalEducation_Bachelor's degree</th>\n",
              "      <th>FormalEducation_Doctoral degree</th>\n",
              "      <th>FormalEducation_I did not complete any formal education past high school</th>\n",
              "      <th>FormalEducation_I prefer not to answer</th>\n",
              "      <th>FormalEducation_Master's degree</th>\n",
              "      <th>FormalEducation_Professional degree</th>\n",
              "      <th>FormalEducation_Some college/university study without earning a bachelor's degree</th>\n",
              "      <th>Ensemble Methods</th>\n",
              "      <th>Markov Logic Networks</th>\n",
              "      <th>Decision Trees</th>\n",
              "      <th>Regression/Logistic Regression</th>\n",
              "      <th>SVMs</th>\n",
              "      <th>Other</th>\n",
              "      <th>RNNs</th>\n",
              "      <th>Bayesian Techniques</th>\n",
              "      <th>CNNs</th>\n",
              "      <th>Evolutionary Approaches</th>\n",
              "      <th>Neural Networks</th>\n",
              "      <th>HMMs</th>\n",
              "      <th>Gradient Boosted Machines</th>\n",
              "      <th>GANs</th>\n",
              "      <th>Random Forests</th>\n",
              "      <th>Self-employed</th>\n",
              "      <th>Employed by college or university</th>\n",
              "      <th>Employed by a company that doesn't perform advanced analytics</th>\n",
              "      <th>Employed by government</th>\n",
              "      <th>Employed by company that makes advanced analytic software</th>\n",
              "      <th>Employed by non-profit or NGO</th>\n",
              "      <th>Employed by a company that performs advanced analytics</th>\n",
              "      <th>Employed by professional services/consulting firm</th>\n",
              "    </tr>\n",
              "  </thead>\n",
              "  <tbody>\n",
              "    <tr>\n",
              "      <th>0</th>\n",
              "      <td>28.0</td>\n",
              "      <td>5.0</td>\n",
              "      <td>2</td>\n",
              "      <td>1</td>\n",
              "      <td>1</td>\n",
              "      <td>3</td>\n",
              "      <td>1</td>\n",
              "      <td>1</td>\n",
              "      <td>1</td>\n",
              "      <td>1</td>\n",
              "      <td>2</td>\n",
              "      <td>4</td>\n",
              "      <td>10</td>\n",
              "      <td>5</td>\n",
              "      <td>3</td>\n",
              "      <td>0</td>\n",
              "      <td>3</td>\n",
              "      <td>0</td>\n",
              "      <td>4</td>\n",
              "      <td>0</td>\n",
              "      <td>0</td>\n",
              "      <td>0</td>\n",
              "      <td>0</td>\n",
              "      <td>3</td>\n",
              "      <td>0</td>\n",
              "      <td>0</td>\n",
              "      <td>0</td>\n",
              "      <td>3</td>\n",
              "      <td>0</td>\n",
              "      <td>0</td>\n",
              "      <td>0</td>\n",
              "      <td>0</td>\n",
              "      <td>8.0</td>\n",
              "      <td>6</td>\n",
              "      <td>4</td>\n",
              "      <td>4</td>\n",
              "      <td>0.714286</td>\n",
              "      <td>0</td>\n",
              "      <td>0</td>\n",
              "      <td>1</td>\n",
              "      <td>...</td>\n",
              "      <td>0</td>\n",
              "      <td>0</td>\n",
              "      <td>0</td>\n",
              "      <td>0</td>\n",
              "      <td>0</td>\n",
              "      <td>0</td>\n",
              "      <td>1</td>\n",
              "      <td>0</td>\n",
              "      <td>0</td>\n",
              "      <td>0</td>\n",
              "      <td>1</td>\n",
              "      <td>0</td>\n",
              "      <td>0</td>\n",
              "      <td>0</td>\n",
              "      <td>0</td>\n",
              "      <td>0</td>\n",
              "      <td>0</td>\n",
              "      <td>0</td>\n",
              "      <td>0</td>\n",
              "      <td>0</td>\n",
              "      <td>0</td>\n",
              "      <td>0</td>\n",
              "      <td>0</td>\n",
              "      <td>0</td>\n",
              "      <td>0</td>\n",
              "      <td>0</td>\n",
              "      <td>0</td>\n",
              "      <td>0</td>\n",
              "      <td>0</td>\n",
              "      <td>0</td>\n",
              "      <td>0</td>\n",
              "      <td>1</td>\n",
              "      <td>1</td>\n",
              "      <td>0</td>\n",
              "      <td>0</td>\n",
              "      <td>0</td>\n",
              "      <td>0</td>\n",
              "      <td>0</td>\n",
              "      <td>0</td>\n",
              "      <td>0</td>\n",
              "    </tr>\n",
              "    <tr>\n",
              "      <th>1</th>\n",
              "      <td>26.0</td>\n",
              "      <td>0.0</td>\n",
              "      <td>1</td>\n",
              "      <td>2</td>\n",
              "      <td>3</td>\n",
              "      <td>1</td>\n",
              "      <td>1</td>\n",
              "      <td>1</td>\n",
              "      <td>3</td>\n",
              "      <td>1</td>\n",
              "      <td>1</td>\n",
              "      <td>3</td>\n",
              "      <td>6</td>\n",
              "      <td>2</td>\n",
              "      <td>2</td>\n",
              "      <td>3</td>\n",
              "      <td>0</td>\n",
              "      <td>2</td>\n",
              "      <td>4</td>\n",
              "      <td>0</td>\n",
              "      <td>0</td>\n",
              "      <td>0</td>\n",
              "      <td>0</td>\n",
              "      <td>0</td>\n",
              "      <td>1</td>\n",
              "      <td>0</td>\n",
              "      <td>0</td>\n",
              "      <td>0</td>\n",
              "      <td>0</td>\n",
              "      <td>3</td>\n",
              "      <td>0</td>\n",
              "      <td>0</td>\n",
              "      <td>8.0</td>\n",
              "      <td>7</td>\n",
              "      <td>4</td>\n",
              "      <td>7</td>\n",
              "      <td>4.795918</td>\n",
              "      <td>0</td>\n",
              "      <td>0</td>\n",
              "      <td>1</td>\n",
              "      <td>...</td>\n",
              "      <td>0</td>\n",
              "      <td>0</td>\n",
              "      <td>0</td>\n",
              "      <td>0</td>\n",
              "      <td>1</td>\n",
              "      <td>0</td>\n",
              "      <td>0</td>\n",
              "      <td>0</td>\n",
              "      <td>0</td>\n",
              "      <td>0</td>\n",
              "      <td>0</td>\n",
              "      <td>0</td>\n",
              "      <td>0</td>\n",
              "      <td>0</td>\n",
              "      <td>1</td>\n",
              "      <td>0</td>\n",
              "      <td>0</td>\n",
              "      <td>0</td>\n",
              "      <td>0</td>\n",
              "      <td>0</td>\n",
              "      <td>0</td>\n",
              "      <td>1</td>\n",
              "      <td>0</td>\n",
              "      <td>0</td>\n",
              "      <td>1</td>\n",
              "      <td>0</td>\n",
              "      <td>0</td>\n",
              "      <td>0</td>\n",
              "      <td>0</td>\n",
              "      <td>0</td>\n",
              "      <td>0</td>\n",
              "      <td>0</td>\n",
              "      <td>0</td>\n",
              "      <td>0</td>\n",
              "      <td>1</td>\n",
              "      <td>0</td>\n",
              "      <td>0</td>\n",
              "      <td>0</td>\n",
              "      <td>0</td>\n",
              "      <td>0</td>\n",
              "    </tr>\n",
              "    <tr>\n",
              "      <th>2</th>\n",
              "      <td>34.0</td>\n",
              "      <td>0.0</td>\n",
              "      <td>2</td>\n",
              "      <td>3</td>\n",
              "      <td>1</td>\n",
              "      <td>2</td>\n",
              "      <td>1</td>\n",
              "      <td>1</td>\n",
              "      <td>2</td>\n",
              "      <td>2</td>\n",
              "      <td>2</td>\n",
              "      <td>5</td>\n",
              "      <td>6</td>\n",
              "      <td>2</td>\n",
              "      <td>2</td>\n",
              "      <td>3</td>\n",
              "      <td>0</td>\n",
              "      <td>3</td>\n",
              "      <td>3</td>\n",
              "      <td>0</td>\n",
              "      <td>0</td>\n",
              "      <td>3</td>\n",
              "      <td>2</td>\n",
              "      <td>0</td>\n",
              "      <td>2</td>\n",
              "      <td>0</td>\n",
              "      <td>2</td>\n",
              "      <td>0</td>\n",
              "      <td>0</td>\n",
              "      <td>2</td>\n",
              "      <td>0</td>\n",
              "      <td>4</td>\n",
              "      <td>2.0</td>\n",
              "      <td>3</td>\n",
              "      <td>2</td>\n",
              "      <td>6</td>\n",
              "      <td>3.367347</td>\n",
              "      <td>0</td>\n",
              "      <td>1</td>\n",
              "      <td>0</td>\n",
              "      <td>...</td>\n",
              "      <td>0</td>\n",
              "      <td>0</td>\n",
              "      <td>0</td>\n",
              "      <td>0</td>\n",
              "      <td>1</td>\n",
              "      <td>0</td>\n",
              "      <td>0</td>\n",
              "      <td>0</td>\n",
              "      <td>0</td>\n",
              "      <td>0</td>\n",
              "      <td>0</td>\n",
              "      <td>1</td>\n",
              "      <td>0</td>\n",
              "      <td>0</td>\n",
              "      <td>0</td>\n",
              "      <td>0</td>\n",
              "      <td>0</td>\n",
              "      <td>0</td>\n",
              "      <td>0</td>\n",
              "      <td>0</td>\n",
              "      <td>1</td>\n",
              "      <td>0</td>\n",
              "      <td>0</td>\n",
              "      <td>0</td>\n",
              "      <td>0</td>\n",
              "      <td>0</td>\n",
              "      <td>0</td>\n",
              "      <td>1</td>\n",
              "      <td>0</td>\n",
              "      <td>0</td>\n",
              "      <td>0</td>\n",
              "      <td>0</td>\n",
              "      <td>0</td>\n",
              "      <td>0</td>\n",
              "      <td>0</td>\n",
              "      <td>1</td>\n",
              "      <td>0</td>\n",
              "      <td>0</td>\n",
              "      <td>0</td>\n",
              "      <td>0</td>\n",
              "    </tr>\n",
              "    <tr>\n",
              "      <th>3</th>\n",
              "      <td>33.0</td>\n",
              "      <td>0.0</td>\n",
              "      <td>2</td>\n",
              "      <td>1</td>\n",
              "      <td>1</td>\n",
              "      <td>3</td>\n",
              "      <td>1</td>\n",
              "      <td>2</td>\n",
              "      <td>1</td>\n",
              "      <td>1</td>\n",
              "      <td>1</td>\n",
              "      <td>6</td>\n",
              "      <td>6</td>\n",
              "      <td>4</td>\n",
              "      <td>2</td>\n",
              "      <td>0</td>\n",
              "      <td>0</td>\n",
              "      <td>0</td>\n",
              "      <td>3</td>\n",
              "      <td>0</td>\n",
              "      <td>2</td>\n",
              "      <td>0</td>\n",
              "      <td>3</td>\n",
              "      <td>0</td>\n",
              "      <td>2</td>\n",
              "      <td>0</td>\n",
              "      <td>0</td>\n",
              "      <td>0</td>\n",
              "      <td>0</td>\n",
              "      <td>0</td>\n",
              "      <td>1</td>\n",
              "      <td>1</td>\n",
              "      <td>2.0</td>\n",
              "      <td>5</td>\n",
              "      <td>2</td>\n",
              "      <td>9</td>\n",
              "      <td>3.367347</td>\n",
              "      <td>0</td>\n",
              "      <td>1</td>\n",
              "      <td>0</td>\n",
              "      <td>...</td>\n",
              "      <td>0</td>\n",
              "      <td>0</td>\n",
              "      <td>0</td>\n",
              "      <td>0</td>\n",
              "      <td>1</td>\n",
              "      <td>0</td>\n",
              "      <td>0</td>\n",
              "      <td>0</td>\n",
              "      <td>0</td>\n",
              "      <td>0</td>\n",
              "      <td>0</td>\n",
              "      <td>1</td>\n",
              "      <td>0</td>\n",
              "      <td>0</td>\n",
              "      <td>0</td>\n",
              "      <td>0</td>\n",
              "      <td>0</td>\n",
              "      <td>0</td>\n",
              "      <td>1</td>\n",
              "      <td>0</td>\n",
              "      <td>1</td>\n",
              "      <td>1</td>\n",
              "      <td>0</td>\n",
              "      <td>0</td>\n",
              "      <td>0</td>\n",
              "      <td>0</td>\n",
              "      <td>0</td>\n",
              "      <td>0</td>\n",
              "      <td>0</td>\n",
              "      <td>0</td>\n",
              "      <td>0</td>\n",
              "      <td>0</td>\n",
              "      <td>0</td>\n",
              "      <td>1</td>\n",
              "      <td>0</td>\n",
              "      <td>0</td>\n",
              "      <td>0</td>\n",
              "      <td>0</td>\n",
              "      <td>0</td>\n",
              "      <td>0</td>\n",
              "    </tr>\n",
              "    <tr>\n",
              "      <th>4</th>\n",
              "      <td>35.0</td>\n",
              "      <td>0.0</td>\n",
              "      <td>2</td>\n",
              "      <td>1</td>\n",
              "      <td>3</td>\n",
              "      <td>2</td>\n",
              "      <td>1</td>\n",
              "      <td>1</td>\n",
              "      <td>3</td>\n",
              "      <td>1</td>\n",
              "      <td>1</td>\n",
              "      <td>6</td>\n",
              "      <td>10</td>\n",
              "      <td>4</td>\n",
              "      <td>4</td>\n",
              "      <td>0</td>\n",
              "      <td>0</td>\n",
              "      <td>4</td>\n",
              "      <td>4</td>\n",
              "      <td>0</td>\n",
              "      <td>2</td>\n",
              "      <td>4</td>\n",
              "      <td>2</td>\n",
              "      <td>0</td>\n",
              "      <td>0</td>\n",
              "      <td>0</td>\n",
              "      <td>0</td>\n",
              "      <td>0</td>\n",
              "      <td>0</td>\n",
              "      <td>0</td>\n",
              "      <td>0</td>\n",
              "      <td>2</td>\n",
              "      <td>8.0</td>\n",
              "      <td>7</td>\n",
              "      <td>2</td>\n",
              "      <td>8</td>\n",
              "      <td>3.367347</td>\n",
              "      <td>0</td>\n",
              "      <td>1</td>\n",
              "      <td>0</td>\n",
              "      <td>...</td>\n",
              "      <td>0</td>\n",
              "      <td>0</td>\n",
              "      <td>0</td>\n",
              "      <td>0</td>\n",
              "      <td>1</td>\n",
              "      <td>0</td>\n",
              "      <td>0</td>\n",
              "      <td>0</td>\n",
              "      <td>0</td>\n",
              "      <td>0</td>\n",
              "      <td>0</td>\n",
              "      <td>1</td>\n",
              "      <td>0</td>\n",
              "      <td>0</td>\n",
              "      <td>0</td>\n",
              "      <td>0</td>\n",
              "      <td>0</td>\n",
              "      <td>0</td>\n",
              "      <td>0</td>\n",
              "      <td>0</td>\n",
              "      <td>1</td>\n",
              "      <td>0</td>\n",
              "      <td>0</td>\n",
              "      <td>1</td>\n",
              "      <td>1</td>\n",
              "      <td>1</td>\n",
              "      <td>0</td>\n",
              "      <td>0</td>\n",
              "      <td>0</td>\n",
              "      <td>0</td>\n",
              "      <td>0</td>\n",
              "      <td>0</td>\n",
              "      <td>0</td>\n",
              "      <td>0</td>\n",
              "      <td>0</td>\n",
              "      <td>0</td>\n",
              "      <td>0</td>\n",
              "      <td>0</td>\n",
              "      <td>1</td>\n",
              "      <td>0</td>\n",
              "    </tr>\n",
              "    <tr>\n",
              "      <th>5</th>\n",
              "      <td>26.0</td>\n",
              "      <td>0.0</td>\n",
              "      <td>2</td>\n",
              "      <td>3</td>\n",
              "      <td>3</td>\n",
              "      <td>1</td>\n",
              "      <td>1</td>\n",
              "      <td>3</td>\n",
              "      <td>1</td>\n",
              "      <td>1</td>\n",
              "      <td>3</td>\n",
              "      <td>3</td>\n",
              "      <td>11</td>\n",
              "      <td>6</td>\n",
              "      <td>4</td>\n",
              "      <td>3</td>\n",
              "      <td>4</td>\n",
              "      <td>4</td>\n",
              "      <td>4</td>\n",
              "      <td>2</td>\n",
              "      <td>4</td>\n",
              "      <td>0</td>\n",
              "      <td>3</td>\n",
              "      <td>4</td>\n",
              "      <td>3</td>\n",
              "      <td>0</td>\n",
              "      <td>0</td>\n",
              "      <td>4</td>\n",
              "      <td>0</td>\n",
              "      <td>0</td>\n",
              "      <td>3</td>\n",
              "      <td>0</td>\n",
              "      <td>1.0</td>\n",
              "      <td>6</td>\n",
              "      <td>5</td>\n",
              "      <td>9</td>\n",
              "      <td>3.265306</td>\n",
              "      <td>0</td>\n",
              "      <td>0</td>\n",
              "      <td>1</td>\n",
              "      <td>...</td>\n",
              "      <td>0</td>\n",
              "      <td>0</td>\n",
              "      <td>0</td>\n",
              "      <td>0</td>\n",
              "      <td>1</td>\n",
              "      <td>0</td>\n",
              "      <td>0</td>\n",
              "      <td>0</td>\n",
              "      <td>0</td>\n",
              "      <td>0</td>\n",
              "      <td>0</td>\n",
              "      <td>0</td>\n",
              "      <td>0</td>\n",
              "      <td>0</td>\n",
              "      <td>1</td>\n",
              "      <td>0</td>\n",
              "      <td>0</td>\n",
              "      <td>1</td>\n",
              "      <td>0</td>\n",
              "      <td>0</td>\n",
              "      <td>1</td>\n",
              "      <td>0</td>\n",
              "      <td>0</td>\n",
              "      <td>0</td>\n",
              "      <td>0</td>\n",
              "      <td>0</td>\n",
              "      <td>0</td>\n",
              "      <td>0</td>\n",
              "      <td>0</td>\n",
              "      <td>1</td>\n",
              "      <td>0</td>\n",
              "      <td>1</td>\n",
              "      <td>0</td>\n",
              "      <td>0</td>\n",
              "      <td>0</td>\n",
              "      <td>0</td>\n",
              "      <td>0</td>\n",
              "      <td>0</td>\n",
              "      <td>0</td>\n",
              "      <td>1</td>\n",
              "    </tr>\n",
              "    <tr>\n",
              "      <th>6</th>\n",
              "      <td>37.0</td>\n",
              "      <td>0.0</td>\n",
              "      <td>2</td>\n",
              "      <td>1</td>\n",
              "      <td>1</td>\n",
              "      <td>1</td>\n",
              "      <td>1</td>\n",
              "      <td>1</td>\n",
              "      <td>1</td>\n",
              "      <td>1</td>\n",
              "      <td>2</td>\n",
              "      <td>5</td>\n",
              "      <td>6</td>\n",
              "      <td>6</td>\n",
              "      <td>2</td>\n",
              "      <td>0</td>\n",
              "      <td>4</td>\n",
              "      <td>0</td>\n",
              "      <td>4</td>\n",
              "      <td>0</td>\n",
              "      <td>0</td>\n",
              "      <td>0</td>\n",
              "      <td>0</td>\n",
              "      <td>0</td>\n",
              "      <td>0</td>\n",
              "      <td>2</td>\n",
              "      <td>0</td>\n",
              "      <td>0</td>\n",
              "      <td>0</td>\n",
              "      <td>1</td>\n",
              "      <td>0</td>\n",
              "      <td>0</td>\n",
              "      <td>3.0</td>\n",
              "      <td>2</td>\n",
              "      <td>1</td>\n",
              "      <td>4</td>\n",
              "      <td>3.367347</td>\n",
              "      <td>0</td>\n",
              "      <td>1</td>\n",
              "      <td>0</td>\n",
              "      <td>...</td>\n",
              "      <td>0</td>\n",
              "      <td>0</td>\n",
              "      <td>0</td>\n",
              "      <td>0</td>\n",
              "      <td>0</td>\n",
              "      <td>1</td>\n",
              "      <td>0</td>\n",
              "      <td>0</td>\n",
              "      <td>0</td>\n",
              "      <td>0</td>\n",
              "      <td>0</td>\n",
              "      <td>0</td>\n",
              "      <td>0</td>\n",
              "      <td>0</td>\n",
              "      <td>1</td>\n",
              "      <td>0</td>\n",
              "      <td>0</td>\n",
              "      <td>0</td>\n",
              "      <td>0</td>\n",
              "      <td>0</td>\n",
              "      <td>0</td>\n",
              "      <td>0</td>\n",
              "      <td>0</td>\n",
              "      <td>0</td>\n",
              "      <td>1</td>\n",
              "      <td>0</td>\n",
              "      <td>0</td>\n",
              "      <td>0</td>\n",
              "      <td>0</td>\n",
              "      <td>0</td>\n",
              "      <td>0</td>\n",
              "      <td>0</td>\n",
              "      <td>0</td>\n",
              "      <td>0</td>\n",
              "      <td>0</td>\n",
              "      <td>0</td>\n",
              "      <td>0</td>\n",
              "      <td>0</td>\n",
              "      <td>0</td>\n",
              "      <td>1</td>\n",
              "    </tr>\n",
              "    <tr>\n",
              "      <th>7</th>\n",
              "      <td>33.0</td>\n",
              "      <td>5.0</td>\n",
              "      <td>2</td>\n",
              "      <td>1</td>\n",
              "      <td>1</td>\n",
              "      <td>3</td>\n",
              "      <td>3</td>\n",
              "      <td>3</td>\n",
              "      <td>1</td>\n",
              "      <td>1</td>\n",
              "      <td>1</td>\n",
              "      <td>6</td>\n",
              "      <td>10</td>\n",
              "      <td>2</td>\n",
              "      <td>4</td>\n",
              "      <td>4</td>\n",
              "      <td>4</td>\n",
              "      <td>0</td>\n",
              "      <td>4</td>\n",
              "      <td>2</td>\n",
              "      <td>2</td>\n",
              "      <td>0</td>\n",
              "      <td>0</td>\n",
              "      <td>2</td>\n",
              "      <td>0</td>\n",
              "      <td>4</td>\n",
              "      <td>4</td>\n",
              "      <td>4</td>\n",
              "      <td>4</td>\n",
              "      <td>4</td>\n",
              "      <td>4</td>\n",
              "      <td>0</td>\n",
              "      <td>1.0</td>\n",
              "      <td>2</td>\n",
              "      <td>4</td>\n",
              "      <td>1</td>\n",
              "      <td>3.367347</td>\n",
              "      <td>0</td>\n",
              "      <td>0</td>\n",
              "      <td>1</td>\n",
              "      <td>...</td>\n",
              "      <td>0</td>\n",
              "      <td>0</td>\n",
              "      <td>0</td>\n",
              "      <td>0</td>\n",
              "      <td>1</td>\n",
              "      <td>0</td>\n",
              "      <td>0</td>\n",
              "      <td>0</td>\n",
              "      <td>0</td>\n",
              "      <td>0</td>\n",
              "      <td>0</td>\n",
              "      <td>0</td>\n",
              "      <td>0</td>\n",
              "      <td>0</td>\n",
              "      <td>1</td>\n",
              "      <td>0</td>\n",
              "      <td>0</td>\n",
              "      <td>0</td>\n",
              "      <td>0</td>\n",
              "      <td>1</td>\n",
              "      <td>1</td>\n",
              "      <td>1</td>\n",
              "      <td>0</td>\n",
              "      <td>0</td>\n",
              "      <td>0</td>\n",
              "      <td>0</td>\n",
              "      <td>0</td>\n",
              "      <td>0</td>\n",
              "      <td>0</td>\n",
              "      <td>0</td>\n",
              "      <td>0</td>\n",
              "      <td>1</td>\n",
              "      <td>0</td>\n",
              "      <td>1</td>\n",
              "      <td>0</td>\n",
              "      <td>0</td>\n",
              "      <td>0</td>\n",
              "      <td>0</td>\n",
              "      <td>0</td>\n",
              "      <td>0</td>\n",
              "    </tr>\n",
              "    <tr>\n",
              "      <th>8</th>\n",
              "      <td>34.0</td>\n",
              "      <td>0.0</td>\n",
              "      <td>3</td>\n",
              "      <td>2</td>\n",
              "      <td>3</td>\n",
              "      <td>2</td>\n",
              "      <td>3</td>\n",
              "      <td>3</td>\n",
              "      <td>2</td>\n",
              "      <td>2</td>\n",
              "      <td>3</td>\n",
              "      <td>5</td>\n",
              "      <td>3</td>\n",
              "      <td>1</td>\n",
              "      <td>4</td>\n",
              "      <td>0</td>\n",
              "      <td>0</td>\n",
              "      <td>2</td>\n",
              "      <td>3</td>\n",
              "      <td>2</td>\n",
              "      <td>0</td>\n",
              "      <td>3</td>\n",
              "      <td>0</td>\n",
              "      <td>0</td>\n",
              "      <td>3</td>\n",
              "      <td>3</td>\n",
              "      <td>3</td>\n",
              "      <td>2</td>\n",
              "      <td>2</td>\n",
              "      <td>3</td>\n",
              "      <td>4</td>\n",
              "      <td>0</td>\n",
              "      <td>2.0</td>\n",
              "      <td>7</td>\n",
              "      <td>1</td>\n",
              "      <td>6</td>\n",
              "      <td>3.265306</td>\n",
              "      <td>0</td>\n",
              "      <td>0</td>\n",
              "      <td>1</td>\n",
              "      <td>...</td>\n",
              "      <td>0</td>\n",
              "      <td>0</td>\n",
              "      <td>0</td>\n",
              "      <td>0</td>\n",
              "      <td>1</td>\n",
              "      <td>0</td>\n",
              "      <td>0</td>\n",
              "      <td>0</td>\n",
              "      <td>0</td>\n",
              "      <td>0</td>\n",
              "      <td>0</td>\n",
              "      <td>1</td>\n",
              "      <td>0</td>\n",
              "      <td>0</td>\n",
              "      <td>0</td>\n",
              "      <td>0</td>\n",
              "      <td>0</td>\n",
              "      <td>1</td>\n",
              "      <td>0</td>\n",
              "      <td>1</td>\n",
              "      <td>0</td>\n",
              "      <td>0</td>\n",
              "      <td>0</td>\n",
              "      <td>1</td>\n",
              "      <td>0</td>\n",
              "      <td>0</td>\n",
              "      <td>0</td>\n",
              "      <td>1</td>\n",
              "      <td>0</td>\n",
              "      <td>0</td>\n",
              "      <td>0</td>\n",
              "      <td>1</td>\n",
              "      <td>0</td>\n",
              "      <td>0</td>\n",
              "      <td>0</td>\n",
              "      <td>0</td>\n",
              "      <td>1</td>\n",
              "      <td>0</td>\n",
              "      <td>0</td>\n",
              "      <td>0</td>\n",
              "    </tr>\n",
              "    <tr>\n",
              "      <th>9</th>\n",
              "      <td>24.0</td>\n",
              "      <td>0.0</td>\n",
              "      <td>3</td>\n",
              "      <td>3</td>\n",
              "      <td>2</td>\n",
              "      <td>1</td>\n",
              "      <td>2</td>\n",
              "      <td>3</td>\n",
              "      <td>3</td>\n",
              "      <td>2</td>\n",
              "      <td>2</td>\n",
              "      <td>4</td>\n",
              "      <td>7</td>\n",
              "      <td>1</td>\n",
              "      <td>4</td>\n",
              "      <td>2</td>\n",
              "      <td>0</td>\n",
              "      <td>0</td>\n",
              "      <td>4</td>\n",
              "      <td>0</td>\n",
              "      <td>0</td>\n",
              "      <td>4</td>\n",
              "      <td>0</td>\n",
              "      <td>0</td>\n",
              "      <td>0</td>\n",
              "      <td>0</td>\n",
              "      <td>0</td>\n",
              "      <td>0</td>\n",
              "      <td>0</td>\n",
              "      <td>3</td>\n",
              "      <td>3</td>\n",
              "      <td>0</td>\n",
              "      <td>9.0</td>\n",
              "      <td>7</td>\n",
              "      <td>4</td>\n",
              "      <td>9</td>\n",
              "      <td>1.734694</td>\n",
              "      <td>0</td>\n",
              "      <td>1</td>\n",
              "      <td>0</td>\n",
              "      <td>...</td>\n",
              "      <td>0</td>\n",
              "      <td>0</td>\n",
              "      <td>0</td>\n",
              "      <td>0</td>\n",
              "      <td>1</td>\n",
              "      <td>0</td>\n",
              "      <td>0</td>\n",
              "      <td>0</td>\n",
              "      <td>0</td>\n",
              "      <td>0</td>\n",
              "      <td>0</td>\n",
              "      <td>0</td>\n",
              "      <td>0</td>\n",
              "      <td>0</td>\n",
              "      <td>1</td>\n",
              "      <td>0</td>\n",
              "      <td>0</td>\n",
              "      <td>0</td>\n",
              "      <td>0</td>\n",
              "      <td>0</td>\n",
              "      <td>0</td>\n",
              "      <td>0</td>\n",
              "      <td>0</td>\n",
              "      <td>1</td>\n",
              "      <td>1</td>\n",
              "      <td>1</td>\n",
              "      <td>0</td>\n",
              "      <td>1</td>\n",
              "      <td>0</td>\n",
              "      <td>0</td>\n",
              "      <td>0</td>\n",
              "      <td>0</td>\n",
              "      <td>0</td>\n",
              "      <td>1</td>\n",
              "      <td>0</td>\n",
              "      <td>0</td>\n",
              "      <td>0</td>\n",
              "      <td>0</td>\n",
              "      <td>0</td>\n",
              "      <td>0</td>\n",
              "    </tr>\n",
              "  </tbody>\n",
              "</table>\n",
              "<p>10 rows × 130 columns</p>\n",
              "</div>"
            ],
            "text/plain": [
              "    Age  ...  Employed by professional services/consulting firm\n",
              "0  28.0  ...                                                  0\n",
              "1  26.0  ...                                                  0\n",
              "2  34.0  ...                                                  0\n",
              "3  33.0  ...                                                  0\n",
              "4  35.0  ...                                                  0\n",
              "5  26.0  ...                                                  1\n",
              "6  37.0  ...                                                  1\n",
              "7  33.0  ...                                                  0\n",
              "8  34.0  ...                                                  0\n",
              "9  24.0  ...                                                  0\n",
              "\n",
              "[10 rows x 130 columns]"
            ]
          },
          "metadata": {
            "tags": []
          },
          "execution_count": 691
        }
      ]
    },
    {
      "cell_type": "markdown",
      "metadata": {
        "id": "NbmbJ06inpGP"
      },
      "source": [
        "# III) Constructing Learning Algorithm"
      ]
    },
    {
      "cell_type": "code",
      "metadata": {
        "id": "PtAVLzy0escS"
      },
      "source": [
        "df_label= df.pop(\"JobSatisfaction\")"
      ],
      "execution_count": null,
      "outputs": []
    },
    {
      "cell_type": "markdown",
      "metadata": {
        "id": "wGy-rKd1f44v"
      },
      "source": [
        "## Machine Learning Model"
      ]
    },
    {
      "cell_type": "code",
      "metadata": {
        "id": "EQEOzdqSY0iN"
      },
      "source": [
        "from sklearn.linear_model import Ridge\r\n",
        "from sklearn.model_selection import train_test_split\r\n",
        "from sklearn.metrics import mean_squared_error\r\n",
        "\r\n",
        "X_train, X_test, y_train, y_test = train_test_split(df, df_label, test_size=0.2, random_state=25)"
      ],
      "execution_count": null,
      "outputs": []
    },
    {
      "cell_type": "code",
      "metadata": {
        "colab": {
          "base_uri": "https://localhost:8080/"
        },
        "id": "YLcHrffKmsuK",
        "outputId": "ab0e92c9-17f7-49ce-d755-5abeed6cf01c"
      },
      "source": [
        "clf = Ridge(alpha=1.0)\r\n",
        "clf.fit(X_train,y_train)\r\n",
        "val_predict=clf.predict(X_test)\r\n",
        "mean_squared_error(val_predict,y_test,squared=False)"
      ],
      "execution_count": null,
      "outputs": [
        {
          "output_type": "execute_result",
          "data": {
            "text/plain": [
              "1.923428552794288"
            ]
          },
          "metadata": {
            "tags": []
          },
          "execution_count": 694
        }
      ]
    },
    {
      "cell_type": "code",
      "metadata": {
        "colab": {
          "base_uri": "https://localhost:8080/"
        },
        "id": "pSrpxYRjgF0l",
        "outputId": "9adc1a6c-6024-47e7-eec7-f935af26f4d6"
      },
      "source": [
        "clf = Ridge(alpha=1.0)\r\n",
        "clf.fit(df,df_label)\r\n",
        "val_predict=clf.predict(X_test)\r\n",
        "mean_squared_error(val_predict,y_test,squared=False)"
      ],
      "execution_count": null,
      "outputs": [
        {
          "output_type": "execute_result",
          "data": {
            "text/plain": [
              "1.8768787733514944"
            ]
          },
          "metadata": {
            "tags": []
          },
          "execution_count": 695
        }
      ]
    },
    {
      "cell_type": "markdown",
      "metadata": {
        "id": "W7cUXkNHgVCM"
      },
      "source": [
        "## Downloading test label predictions"
      ]
    },
    {
      "cell_type": "code",
      "metadata": {
        "id": "xajinaCFfLX7"
      },
      "source": [
        "predictions=clf.predict(df_test)"
      ],
      "execution_count": null,
      "outputs": []
    },
    {
      "cell_type": "code",
      "metadata": {
        "colab": {
          "base_uri": "https://localhost:8080/",
          "height": 17
        },
        "id": "H6qJRpfFtPe-",
        "outputId": "69ca13c6-41fc-460f-8936-6af8780347c5"
      },
      "source": [
        "from google.colab import files\r\n",
        "\r\n",
        "data = {'ID':[i for i in range(1,1001)],'Prediction':predictions} \r\n",
        "df_test_label = pd.DataFrame(data)\r\n",
        "df_test_label.to_csv('test_label_predictions.csv',index=False)\r\n",
        "files.download('test_label_prediction.csv')"
      ],
      "execution_count": null,
      "outputs": [
        {
          "output_type": "display_data",
          "data": {
            "application/javascript": [
              "\n",
              "    async function download(id, filename, size) {\n",
              "      if (!google.colab.kernel.accessAllowed) {\n",
              "        return;\n",
              "      }\n",
              "      const div = document.createElement('div');\n",
              "      const label = document.createElement('label');\n",
              "      label.textContent = `Downloading \"${filename}\": `;\n",
              "      div.appendChild(label);\n",
              "      const progress = document.createElement('progress');\n",
              "      progress.max = size;\n",
              "      div.appendChild(progress);\n",
              "      document.body.appendChild(div);\n",
              "\n",
              "      const buffers = [];\n",
              "      let downloaded = 0;\n",
              "\n",
              "      const channel = await google.colab.kernel.comms.open(id);\n",
              "      // Send a message to notify the kernel that we're ready.\n",
              "      channel.send({})\n",
              "\n",
              "      for await (const message of channel.messages) {\n",
              "        // Send a message to notify the kernel that we're ready.\n",
              "        channel.send({})\n",
              "        if (message.buffers) {\n",
              "          for (const buffer of message.buffers) {\n",
              "            buffers.push(buffer);\n",
              "            downloaded += buffer.byteLength;\n",
              "            progress.value = downloaded;\n",
              "          }\n",
              "        }\n",
              "      }\n",
              "      const blob = new Blob(buffers, {type: 'application/binary'});\n",
              "      const a = document.createElement('a');\n",
              "      a.href = window.URL.createObjectURL(blob);\n",
              "      a.download = filename;\n",
              "      div.appendChild(a);\n",
              "      a.click();\n",
              "      div.remove();\n",
              "    }\n",
              "  "
            ],
            "text/plain": [
              "<IPython.core.display.Javascript object>"
            ]
          },
          "metadata": {
            "tags": []
          }
        },
        {
          "output_type": "display_data",
          "data": {
            "application/javascript": [
              "download(\"download_11e41e88-6a95-4ba4-b416-0c03f66946eb\", \"Submission3.csv\", 21918)"
            ],
            "text/plain": [
              "<IPython.core.display.Javascript object>"
            ]
          },
          "metadata": {
            "tags": []
          }
        }
      ]
    },
    {
      "cell_type": "markdown",
      "metadata": {
        "id": "uKMxai5Xoj71"
      },
      "source": [
        "## Alternative Model"
      ]
    },
    {
      "cell_type": "code",
      "metadata": {
        "id": "NsGuNWWXo_Pb"
      },
      "source": [
        "from sklearn.linear_model import BayesianRidge \r\n",
        "from sklearn.model_selection import train_test_split\r\n",
        "\r\n",
        "X_train, X_test, y_train, y_test = train_test_split(df, df_label, test_size=0.2, random_state=25)"
      ],
      "execution_count": null,
      "outputs": []
    },
    {
      "cell_type": "code",
      "metadata": {
        "colab": {
          "base_uri": "https://localhost:8080/"
        },
        "id": "TKHeR3WeZgXy",
        "outputId": "96bfe35f-c279-4975-9d4a-9e13a067d8c9"
      },
      "source": [
        "clf = BayesianRidge(compute_score=True)\r\n",
        "clf.fit(X_train,y_train)\r\n",
        "val_predict=clf.predict(X_test)\r\n",
        "mean_squared_error(val_predict,y_test,squared=False)"
      ],
      "execution_count": null,
      "outputs": [
        {
          "output_type": "execute_result",
          "data": {
            "text/plain": [
              "1.914269202038451"
            ]
          },
          "metadata": {
            "tags": []
          },
          "execution_count": 349
        }
      ]
    }
  ]
}